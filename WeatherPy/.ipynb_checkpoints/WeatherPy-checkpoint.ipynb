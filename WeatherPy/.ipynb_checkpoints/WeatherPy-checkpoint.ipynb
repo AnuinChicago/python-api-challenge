{
 "cells": [
  {
   "cell_type": "markdown",
   "metadata": {},
   "source": [
    "# WeatherPy\n",
    "----"
   ]
  },
  {
   "cell_type": "markdown",
   "metadata": {},
   "source": [
    "#### General Observable Trends\n",
    "\n",
    "There are several observable trends when looking at a randomly selected group of over 500 cities worldwide and comparing their weather conditions. We can draw multiple conclusions on how the weather changes in cities as we approach the equator. \n",
    "\n",
    "The first observable trend is shown in the first scatterplot of city latitude versus maximum temperature of each city. From the pattern of the graph, it appears several cities located close to the equator have higher maximum temperatures than cities located further away from the equator. \n",
    "\n",
    "A similar trend can be observed when looking at the linear regression graph, for the northern hemisphere of city latitude versus maximum temperature of each city. The trend of the graph and the correlation coefficient indicate there’s a negative correlation between the two variables, meaning the further north of the equator the city is, the cooler the maximum temperature is in the northern hemisphere. In the linear regression graph for the southern hemisphere of city latitude versus maximum temperature of each city, the trend of the graph and the correlation coefficient indicate there is a strong positive correlation between the two variables. This means the closer a city is located to the equator, the warmer the maximum temperature is in the southern hemisphere. \n",
    "\n",
    "In regards to city location (latitude) and the percentage of humidity in each city, it’s clear there's no correlation between the two variables. This is clear in the scatterplot, both linear regression graphs, and both correlation coefficients for the northern and southern hemispheres. It's safe to say the latitude of a city does not necessarily correlate to the city's humidity. \n",
    "\n",
    "In regards to city location (latitude) and the percentage of cloudiness in each city, it’s clear there's no correlation between the two variables. This is clear in the scatterplot, both linear regression graphs, and both correlation coefficients for the northern and southern hemispheres. It's safe to say the latitude of a city does not necessarily correlate to the city's cloudiness. \n",
    "\n",
    "In regards to city location (latitude) and the wind speed in each city, it’s clear there's no correlation between the two variables. This is clear in the scatterplot, both linear regression graphs, and both correlation coefficients for the northern and southern hemispheres. It's safe to say the latitude of a city does not necessarily correlate to the city's wind speed. \n",
    "\n",
    "To conclude, according to our analysis, the closer a city is to the equator the warmer the temperature is. All other weather factors do not necessarily correlate with the latitude of a city."
   ]
  },
  {
   "cell_type": "markdown",
   "metadata": {},
   "source": [
    "## Dependencies and Setup"
   ]
  },
  {
   "cell_type": "code",
   "execution_count": 1,
   "metadata": {
    "scrolled": true
   },
   "outputs": [],
   "source": [
    "import matplotlib.pyplot as plt\n",
    "import pandas as pd\n",
    "import numpy as np\n",
    "import requests\n",
    "import time\n",
    "from scipy.stats import linregress\n",
    "from pprint import pprint\n",
    "\n",
    "#Import API key\n",
    "from api_keys import weather_api_key\n",
    "\n",
    "#Incorporated citipy to determine city based on latitude and longitude\n",
    "from citipy import citipy\n",
    "\n",
    "#Output File (CSV)\n",
    "output_data_file = \"output_data/cities.csv\"\n",
    "\n",
    "#Range of latitudes and longitudes\n",
    "lat_range = (-90, 90)\n",
    "lng_range = (-180, 180)"
   ]
  },
  {
   "cell_type": "markdown",
   "metadata": {},
   "source": [
    "## Generate Cities List"
   ]
  },
  {
   "cell_type": "code",
   "execution_count": 2,
   "metadata": {},
   "outputs": [
    {
     "data": {
      "text/plain": [
       "598"
      ]
     },
     "execution_count": 2,
     "metadata": {},
     "output_type": "execute_result"
    }
   ],
   "source": [
    "#List for holding lat_lngs and cities\n",
    "lat_lngs = []\n",
    "cities = []\n",
    "\n",
    "#Create a set of random lat and lng combinations\n",
    "lats = np.random.uniform(lat_range[0], lat_range[1], size=1500) \n",
    "lngs = np.random.uniform(lng_range[0], lng_range[1], size=1500)\n",
    "lat_lngs = zip(lats, lngs)\n",
    "\n",
    "#Identify nearest city for each lat, lng combination\n",
    "for lat_lng in lat_lngs:\n",
    "    city = citipy.nearest_city(lat_lng[0], lat_lng[1]).city_name\n",
    "    \n",
    "    #If the city is unique, then add it to a our cities list\n",
    "    if city not in cities:\n",
    "        cities.append(city)\n",
    "\n",
    "#Print the city count to confirm sufficient count\n",
    "len(cities)"
   ]
  },
  {
   "cell_type": "markdown",
   "metadata": {},
   "source": [
    "### Perform API Calls\n",
    "* Perform a weather check on each city using a series of successive API calls.\n",
    "* Include a print log of each city as it's being processed (with the city number and city name).\n"
   ]
  },
  {
   "cell_type": "code",
   "execution_count": 3,
   "metadata": {
    "scrolled": true
   },
   "outputs": [
    {
     "name": "stdout",
     "output_type": "stream",
     "text": [
      "Processing Record 1 of Set 1 | georgetown\n",
      "Processing Record 2 of Set 1 | kavieng\n",
      "Processing Record 3 of Set 1 | castro\n",
      "Processing Record 4 of Set 1 | sur\n",
      "Processing Record 5 of Set 1 | barrow\n",
      "Processing Record 6 of Set 1 | upernavik\n",
      "Processing Record 7 of Set 1 | rikitea\n",
      "Processing Record 8 of Set 1 | butaritari\n",
      "Processing Record 9 of Set 1 | daru\n",
      "Processing Record 10 of Set 1 | yerbogachen\n",
      "Processing Record 11 of Set 1 | bria\n",
      "Processing Record 12 of Set 1 | mataura\n",
      "Processing Record 13 of Set 1 | jamestown\n",
      "Processing Record 14 of Set 1 | saint-joseph\n",
      "Processing Record 15 of Set 1 | qaanaaq\n",
      "Processing Record 16 of Set 1 | comodoro rivadavia\n",
      "Processing Record 17 of Set 1 | bengkulu\n",
      "Processing Record 18 of Set 1 | cidreira\n",
      "Processing Record 19 of Set 1 | hobart\n",
      "Processing Record 20 of Set 1 | hermanus\n",
      "Processing Record 21 of Set 1 | puerto leguizamo\n",
      "Processing Record 22 of Set 1 | klaksvik\n",
      "Processing Record 23 of Set 1 | taolanaro\n",
      "City, taolanaro, not found. Skipping...\n",
      "Processing Record 24 of Set 1 | atuona\n",
      "Processing Record 25 of Set 1 | ponta do sol\n",
      "Processing Record 26 of Set 1 | iwanai\n",
      "Processing Record 27 of Set 1 | evanton\n",
      "Processing Record 28 of Set 1 | kourou\n",
      "Processing Record 29 of Set 1 | pisco\n",
      "Processing Record 30 of Set 1 | kodiak\n",
      "Processing Record 31 of Set 1 | glomfjord\n",
      "Processing Record 32 of Set 1 | palmer\n",
      "Processing Record 33 of Set 1 | khatanga\n",
      "Processing Record 34 of Set 1 | srednekolymsk\n",
      "Processing Record 35 of Set 1 | mahebourg\n",
      "Processing Record 36 of Set 1 | busselton\n",
      "Processing Record 37 of Set 1 | bluff\n",
      "Processing Record 38 of Set 1 | longyearbyen\n",
      "Processing Record 39 of Set 1 | kutno\n",
      "Processing Record 40 of Set 1 | cherskiy\n",
      "Processing Record 41 of Set 1 | port moresby\n",
      "Processing Record 42 of Set 1 | kapaa\n",
      "Processing Record 43 of Set 1 | kavaratti\n",
      "Processing Record 44 of Set 1 | bilibino\n",
      "Processing Record 45 of Set 1 | zanjan\n",
      "Processing Record 46 of Set 1 | coihaique\n",
      "Processing Record 47 of Set 1 | sidhi\n",
      "Processing Record 48 of Set 1 | makasar\n",
      "Processing Record 49 of Set 1 | avarua\n",
      "Processing Record 50 of Set 1 | san patricio\n",
      "Processing Record 1 of Set 2 | san quintin\n",
      "Processing Record 2 of Set 2 | ribeira grande\n",
      "Processing Record 3 of Set 2 | barry\n",
      "Processing Record 4 of Set 2 | albany\n",
      "Processing Record 5 of Set 2 | pathein\n",
      "Processing Record 6 of Set 2 | lavrentiya\n",
      "Processing Record 7 of Set 2 | sarai\n",
      "Processing Record 8 of Set 2 | muros\n",
      "Processing Record 9 of Set 2 | syracuse\n",
      "Processing Record 10 of Set 2 | port lincoln\n",
      "Processing Record 11 of Set 2 | san rafael del sur\n",
      "Processing Record 12 of Set 2 | provideniya\n",
      "Processing Record 13 of Set 2 | ban chang\n",
      "Processing Record 14 of Set 2 | bredasdorp\n",
      "Processing Record 15 of Set 2 | palabuhanratu\n",
      "City, palabuhanratu, not found. Skipping...\n",
      "Processing Record 16 of Set 2 | bambous virieux\n",
      "Processing Record 17 of Set 2 | new norfolk\n",
      "Processing Record 18 of Set 2 | lompoc\n",
      "Processing Record 19 of Set 2 | manaquiri\n",
      "Processing Record 20 of Set 2 | lebu\n",
      "Processing Record 21 of Set 2 | aklavik\n",
      "Processing Record 22 of Set 2 | ilhabela\n",
      "Processing Record 23 of Set 2 | chifeng\n",
      "Processing Record 24 of Set 2 | chokurdakh\n",
      "Processing Record 25 of Set 2 | lago da pedra\n",
      "Processing Record 26 of Set 2 | nizhneyansk\n",
      "City, nizhneyansk, not found. Skipping...\n",
      "Processing Record 27 of Set 2 | kalabo\n",
      "Processing Record 28 of Set 2 | norman wells\n",
      "Processing Record 29 of Set 2 | east london\n",
      "Processing Record 30 of Set 2 | torbay\n",
      "Processing Record 31 of Set 2 | narsaq\n",
      "Processing Record 32 of Set 2 | ushuaia\n",
      "Processing Record 33 of Set 2 | madaoua\n",
      "Processing Record 34 of Set 2 | souillac\n",
      "Processing Record 35 of Set 2 | walvis bay\n",
      "Processing Record 36 of Set 2 | cape town\n",
      "Processing Record 37 of Set 2 | ancud\n",
      "Processing Record 38 of Set 2 | dalianwan\n",
      "Processing Record 39 of Set 2 | mys shmidta\n",
      "City, mys shmidta, not found. Skipping...\n",
      "Processing Record 40 of Set 2 | yellowknife\n",
      "Processing Record 41 of Set 2 | broome\n",
      "Processing Record 42 of Set 2 | gat\n",
      "Processing Record 43 of Set 2 | beringovskiy\n",
      "Processing Record 44 of Set 2 | vaini\n",
      "Processing Record 45 of Set 2 | tiksi\n",
      "Processing Record 46 of Set 2 | kochi\n",
      "Processing Record 47 of Set 2 | saint-leu\n",
      "Processing Record 48 of Set 2 | arraial do cabo\n",
      "Processing Record 49 of Set 2 | stephenville crossing\n",
      "Processing Record 50 of Set 2 | xai-xai\n",
      "Processing Record 1 of Set 3 | punta arenas\n",
      "Processing Record 2 of Set 3 | atasu\n",
      "Processing Record 3 of Set 3 | lagoa\n",
      "Processing Record 4 of Set 3 | aguimes\n",
      "Processing Record 5 of Set 3 | pevek\n",
      "Processing Record 6 of Set 3 | sao joao da barra\n",
      "Processing Record 7 of Set 3 | constitucion\n",
      "Processing Record 8 of Set 3 | bud\n",
      "Processing Record 9 of Set 3 | barentsburg\n",
      "City, barentsburg, not found. Skipping...\n",
      "Processing Record 10 of Set 3 | jalu\n",
      "Processing Record 11 of Set 3 | cuite\n",
      "Processing Record 12 of Set 3 | tiarei\n",
      "Processing Record 13 of Set 3 | sayyan\n",
      "Processing Record 14 of Set 3 | ampanihy\n",
      "Processing Record 15 of Set 3 | tanout\n",
      "Processing Record 16 of Set 3 | port hardy\n",
      "Processing Record 17 of Set 3 | bagdarin\n",
      "Processing Record 18 of Set 3 | andenes\n",
      "Processing Record 19 of Set 3 | hohoe\n",
      "Processing Record 20 of Set 3 | port alfred\n",
      "Processing Record 21 of Set 3 | vila franca do campo\n",
      "Processing Record 22 of Set 3 | namibe\n",
      "Processing Record 23 of Set 3 | saint-philippe\n",
      "Processing Record 24 of Set 3 | mayfield\n",
      "Processing Record 25 of Set 3 | lyngseidet\n",
      "Processing Record 26 of Set 3 | leshukonskoye\n",
      "Processing Record 27 of Set 3 | saskylakh\n",
      "Processing Record 28 of Set 3 | illoqqortoormiut\n",
      "City, illoqqortoormiut, not found. Skipping...\n",
      "Processing Record 29 of Set 3 | pacific grove\n",
      "Processing Record 30 of Set 3 | awjilah\n",
      "Processing Record 31 of Set 3 | kaitangata\n",
      "Processing Record 32 of Set 3 | mar del plata\n",
      "Processing Record 33 of Set 3 | severo-kurilsk\n",
      "Processing Record 34 of Set 3 | hithadhoo\n",
      "Processing Record 35 of Set 3 | ciudad bolivar\n",
      "Processing Record 36 of Set 3 | mayahi\n",
      "Processing Record 37 of Set 3 | saldanha\n",
      "Processing Record 38 of Set 3 | williams lake\n",
      "Processing Record 39 of Set 3 | carnarvon\n",
      "Processing Record 40 of Set 3 | ajtos\n",
      "Processing Record 41 of Set 3 | marcona\n",
      "City, marcona, not found. Skipping...\n",
      "Processing Record 42 of Set 3 | bethel\n",
      "Processing Record 43 of Set 3 | coquimbo\n",
      "Processing Record 44 of Set 3 | nikolskoye\n",
      "Processing Record 45 of Set 3 | dubti\n",
      "Processing Record 46 of Set 3 | raudeberg\n",
      "Processing Record 47 of Set 3 | richards bay\n",
      "Processing Record 48 of Set 3 | venice\n",
      "Processing Record 49 of Set 3 | kozan\n",
      "Processing Record 50 of Set 3 | moctezuma\n",
      "Processing Record 1 of Set 4 | pran buri\n",
      "Processing Record 2 of Set 4 | sabha\n",
      "Processing Record 3 of Set 4 | agnibilekrou\n",
      "Processing Record 4 of Set 4 | pierre\n",
      "Processing Record 5 of Set 4 | baghdad\n",
      "Processing Record 6 of Set 4 | suhbaatar\n",
      "Processing Record 7 of Set 4 | hay river\n",
      "Processing Record 8 of Set 4 | faya\n",
      "Processing Record 9 of Set 4 | hilo\n",
      "Processing Record 10 of Set 4 | ryotsu\n",
      "Processing Record 11 of Set 4 | nzerekore\n",
      "Processing Record 12 of Set 4 | xichang\n",
      "Processing Record 13 of Set 4 | belushya guba\n",
      "City, belushya guba, not found. Skipping...\n",
      "Processing Record 14 of Set 4 | mount gambier\n",
      "Processing Record 15 of Set 4 | clyde river\n",
      "Processing Record 16 of Set 4 | gizo\n",
      "Processing Record 17 of Set 4 | windhoek\n",
      "Processing Record 18 of Set 4 | batemans bay\n",
      "Processing Record 19 of Set 4 | cabo san lucas\n",
      "Processing Record 20 of Set 4 | fare\n",
      "Processing Record 21 of Set 4 | katobu\n",
      "Processing Record 22 of Set 4 | aripuana\n",
      "Processing Record 23 of Set 4 | grindavik\n",
      "Processing Record 24 of Set 4 | camacha\n",
      "Processing Record 25 of Set 4 | port blair\n",
      "Processing Record 26 of Set 4 | attawapiskat\n",
      "City, attawapiskat, not found. Skipping...\n",
      "Processing Record 27 of Set 4 | ilulissat\n",
      "Processing Record 28 of Set 4 | iqaluit\n",
      "Processing Record 29 of Set 4 | padang\n",
      "Processing Record 30 of Set 4 | ramasukha\n",
      "City, ramasukha, not found. Skipping...\n",
      "Processing Record 31 of Set 4 | ust-ishim\n",
      "Processing Record 32 of Set 4 | saint george\n",
      "Processing Record 33 of Set 4 | hamilton\n",
      "Processing Record 34 of Set 4 | graham\n",
      "Processing Record 35 of Set 4 | kamenka\n",
      "Processing Record 36 of Set 4 | mehriz\n",
      "Processing Record 37 of Set 4 | dongsheng\n",
      "Processing Record 38 of Set 4 | guisa\n",
      "Processing Record 39 of Set 4 | naze\n",
      "Processing Record 40 of Set 4 | da nang\n"
     ]
    },
    {
     "name": "stdout",
     "output_type": "stream",
     "text": [
      "Processing Record 41 of Set 4 | long xuyen\n",
      "Processing Record 42 of Set 4 | phan rang\n",
      "City, phan rang, not found. Skipping...\n",
      "Processing Record 43 of Set 4 | sibolga\n",
      "Processing Record 44 of Set 4 | lae\n",
      "Processing Record 45 of Set 4 | bahia honda\n",
      "Processing Record 46 of Set 4 | inuvik\n",
      "Processing Record 47 of Set 4 | saleaula\n",
      "City, saleaula, not found. Skipping...\n",
      "Processing Record 48 of Set 4 | paamiut\n",
      "Processing Record 49 of Set 4 | angoram\n",
      "Processing Record 50 of Set 4 | puerto ayora\n",
      "Processing Record 1 of Set 5 | esperance\n",
      "Processing Record 2 of Set 5 | auki\n",
      "Processing Record 3 of Set 5 | issa\n",
      "Processing Record 4 of Set 5 | bac lieu\n",
      "Processing Record 5 of Set 5 | tabiauea\n",
      "City, tabiauea, not found. Skipping...\n",
      "Processing Record 6 of Set 5 | zouxian\n",
      "City, zouxian, not found. Skipping...\n",
      "Processing Record 7 of Set 5 | uitenhage\n",
      "Processing Record 8 of Set 5 | nago\n",
      "Processing Record 9 of Set 5 | alofi\n",
      "Processing Record 10 of Set 5 | coroata\n",
      "Processing Record 11 of Set 5 | butembo\n",
      "Processing Record 12 of Set 5 | nanortalik\n",
      "Processing Record 13 of Set 5 | thompson\n",
      "Processing Record 14 of Set 5 | elbrus\n",
      "Processing Record 15 of Set 5 | chapais\n",
      "Processing Record 16 of Set 5 | saint anthony\n",
      "Processing Record 17 of Set 5 | pilar\n",
      "Processing Record 18 of Set 5 | kalakamati\n",
      "Processing Record 19 of Set 5 | marzuq\n",
      "Processing Record 20 of Set 5 | arawa\n",
      "Processing Record 21 of Set 5 | merauke\n",
      "Processing Record 22 of Set 5 | valparaiso\n",
      "Processing Record 23 of Set 5 | jinji\n",
      "Processing Record 24 of Set 5 | jujuy\n",
      "City, jujuy, not found. Skipping...\n",
      "Processing Record 25 of Set 5 | opuwo\n",
      "Processing Record 26 of Set 5 | storslett\n",
      "Processing Record 27 of Set 5 | kirakira\n",
      "Processing Record 28 of Set 5 | port elizabeth\n",
      "Processing Record 29 of Set 5 | sayat\n",
      "Processing Record 30 of Set 5 | bosaso\n",
      "Processing Record 31 of Set 5 | mazagao\n",
      "Processing Record 32 of Set 5 | kamenskoye\n",
      "City, kamenskoye, not found. Skipping...\n",
      "Processing Record 33 of Set 5 | morondava\n",
      "Processing Record 34 of Set 5 | marrakesh\n",
      "Processing Record 35 of Set 5 | mehamn\n",
      "Processing Record 36 of Set 5 | dingle\n",
      "Processing Record 37 of Set 5 | victoria\n",
      "Processing Record 38 of Set 5 | wildomar\n",
      "Processing Record 39 of Set 5 | santa isabel do rio negro\n",
      "Processing Record 40 of Set 5 | port macquarie\n",
      "Processing Record 41 of Set 5 | gobabis\n",
      "Processing Record 42 of Set 5 | banda aceh\n",
      "Processing Record 43 of Set 5 | abalak\n",
      "Processing Record 44 of Set 5 | vila velha\n",
      "Processing Record 45 of Set 5 | mankono\n",
      "Processing Record 46 of Set 5 | fort saint james\n",
      "Processing Record 47 of Set 5 | dukat\n",
      "Processing Record 48 of Set 5 | laredo\n",
      "Processing Record 49 of Set 5 | doha\n",
      "Processing Record 50 of Set 5 | olbia\n",
      "Processing Record 1 of Set 6 | kirksville\n",
      "Processing Record 2 of Set 6 | sentyabrskiy\n",
      "City, sentyabrskiy, not found. Skipping...\n",
      "Processing Record 3 of Set 6 | viedma\n",
      "Processing Record 4 of Set 6 | keti bandar\n",
      "Processing Record 5 of Set 6 | kruisfontein\n",
      "Processing Record 6 of Set 6 | kudahuvadhoo\n",
      "Processing Record 7 of Set 6 | tuktoyaktuk\n",
      "Processing Record 8 of Set 6 | oil city\n",
      "Processing Record 9 of Set 6 | ciras\n",
      "City, ciras, not found. Skipping...\n",
      "Processing Record 10 of Set 6 | halalo\n",
      "City, halalo, not found. Skipping...\n",
      "Processing Record 11 of Set 6 | saint-georges\n",
      "Processing Record 12 of Set 6 | ust-nera\n",
      "Processing Record 13 of Set 6 | rincon\n",
      "Processing Record 14 of Set 6 | bukachacha\n",
      "Processing Record 15 of Set 6 | katsuura\n",
      "Processing Record 16 of Set 6 | codrington\n",
      "Processing Record 17 of Set 6 | iskateley\n",
      "Processing Record 18 of Set 6 | teguise\n",
      "Processing Record 19 of Set 6 | sioux lookout\n",
      "Processing Record 20 of Set 6 | mocuba\n",
      "Processing Record 21 of Set 6 | amderma\n",
      "City, amderma, not found. Skipping...\n",
      "Processing Record 22 of Set 6 | tutoia\n",
      "Processing Record 23 of Set 6 | pokhara\n",
      "Processing Record 24 of Set 6 | fairbanks\n",
      "Processing Record 25 of Set 6 | krasnyy chikoy\n",
      "Processing Record 26 of Set 6 | chapleau\n",
      "Processing Record 27 of Set 6 | hasaki\n",
      "Processing Record 28 of Set 6 | ca mau\n",
      "Processing Record 29 of Set 6 | luderitz\n",
      "Processing Record 30 of Set 6 | faanui\n",
      "Processing Record 31 of Set 6 | belaya gora\n",
      "Processing Record 32 of Set 6 | laguna\n",
      "Processing Record 33 of Set 6 | vangaindrano\n",
      "Processing Record 34 of Set 6 | karratha\n",
      "Processing Record 35 of Set 6 | loei\n",
      "Processing Record 36 of Set 6 | yar-sale\n",
      "Processing Record 37 of Set 6 | abapo\n",
      "Processing Record 38 of Set 6 | tautira\n",
      "Processing Record 39 of Set 6 | charagua\n",
      "Processing Record 40 of Set 6 | kumla\n",
      "Processing Record 41 of Set 6 | okha\n",
      "Processing Record 42 of Set 6 | caohai\n",
      "Processing Record 43 of Set 6 | makakilo city\n",
      "Processing Record 44 of Set 6 | port-cartier\n",
      "Processing Record 45 of Set 6 | bahia blanca\n",
      "Processing Record 46 of Set 6 | celestun\n",
      "Processing Record 47 of Set 6 | geraldton\n",
      "Processing Record 48 of Set 6 | sredniye achaluki\n",
      "Processing Record 49 of Set 6 | langangen\n",
      "City, langangen, not found. Skipping...\n",
      "Processing Record 50 of Set 6 | kyzyl-suu\n",
      "Processing Record 1 of Set 7 | rouvroy\n",
      "Processing Record 2 of Set 7 | governador valadares\n",
      "Processing Record 3 of Set 7 | chitrakonda\n",
      "Processing Record 4 of Set 7 | uruzgan\n",
      "Processing Record 5 of Set 7 | la ronge\n",
      "Processing Record 6 of Set 7 | nome\n",
      "Processing Record 7 of Set 7 | machilipatnam\n",
      "Processing Record 8 of Set 7 | monrovia\n",
      "Processing Record 9 of Set 7 | chernyshevskiy\n",
      "Processing Record 10 of Set 7 | vanimo\n",
      "Processing Record 11 of Set 7 | hambantota\n",
      "Processing Record 12 of Set 7 | kahului\n",
      "Processing Record 13 of Set 7 | ziway\n",
      "Processing Record 14 of Set 7 | margate\n",
      "Processing Record 15 of Set 7 | paragominas\n",
      "Processing Record 16 of Set 7 | santa rosa\n",
      "Processing Record 17 of Set 7 | rocha\n",
      "Processing Record 18 of Set 7 | dikson\n",
      "Processing Record 19 of Set 7 | porbandar\n",
      "Processing Record 20 of Set 7 | seoul\n",
      "Processing Record 21 of Set 7 | manokwari\n",
      "Processing Record 22 of Set 7 | vestmannaeyjar\n",
      "Processing Record 23 of Set 7 | rungata\n",
      "City, rungata, not found. Skipping...\n",
      "Processing Record 24 of Set 7 | maine-soroa\n",
      "Processing Record 25 of Set 7 | telde\n",
      "Processing Record 26 of Set 7 | port augusta\n",
      "Processing Record 27 of Set 7 | qixia\n",
      "Processing Record 28 of Set 7 | lasa\n",
      "Processing Record 29 of Set 7 | vao\n",
      "Processing Record 30 of Set 7 | portoferraio\n",
      "Processing Record 31 of Set 7 | gondanglegi\n",
      "Processing Record 32 of Set 7 | aksu\n",
      "Processing Record 33 of Set 7 | la rioja\n",
      "Processing Record 34 of Set 7 | kaeo\n",
      "Processing Record 35 of Set 7 | roald\n",
      "Processing Record 36 of Set 7 | banepa\n",
      "Processing Record 37 of Set 7 | lata\n",
      "Processing Record 38 of Set 7 | requena\n",
      "Processing Record 39 of Set 7 | henties bay\n",
      "Processing Record 40 of Set 7 | fort nelson\n",
      "Processing Record 41 of Set 7 | port hawkesbury\n",
      "Processing Record 42 of Set 7 | tieling\n",
      "Processing Record 43 of Set 7 | roma\n",
      "Processing Record 44 of Set 7 | jiexiu\n",
      "Processing Record 45 of Set 7 | plettenberg bay\n",
      "Processing Record 46 of Set 7 | tezu\n",
      "Processing Record 47 of Set 7 | sitka\n",
      "Processing Record 48 of Set 7 | deputatskiy\n",
      "Processing Record 49 of Set 7 | airai\n",
      "Processing Record 50 of Set 7 | santa rosa de viterbo\n",
      "Processing Record 1 of Set 8 | meyungs\n",
      "City, meyungs, not found. Skipping...\n",
      "Processing Record 2 of Set 8 | verkhniy ufaley\n",
      "Processing Record 3 of Set 8 | mackay\n",
      "Processing Record 4 of Set 8 | kailua\n",
      "Processing Record 5 of Set 8 | whitehorse\n",
      "Processing Record 6 of Set 8 | paita\n",
      "Processing Record 7 of Set 8 | scarborough\n",
      "Processing Record 8 of Set 8 | kununurra\n",
      "Processing Record 9 of Set 8 | labuhan\n",
      "Processing Record 10 of Set 8 | ambon\n",
      "Processing Record 11 of Set 8 | urumqi\n",
      "Processing Record 12 of Set 8 | altagracia de orituco\n",
      "Processing Record 13 of Set 8 | shahrud\n",
      "Processing Record 14 of Set 8 | tsihombe\n",
      "City, tsihombe, not found. Skipping...\n",
      "Processing Record 15 of Set 8 | hami\n",
      "Processing Record 16 of Set 8 | quatre cocos\n",
      "Processing Record 17 of Set 8 | ngunguru\n",
      "Processing Record 18 of Set 8 | maraa\n",
      "Processing Record 19 of Set 8 | el dorado\n",
      "Processing Record 20 of Set 8 | rudnichnyy\n",
      "Processing Record 21 of Set 8 | rio grande\n",
      "Processing Record 22 of Set 8 | champerico\n",
      "Processing Record 23 of Set 8 | sumbawa\n",
      "City, sumbawa, not found. Skipping...\n",
      "Processing Record 24 of Set 8 | hearst\n",
      "Processing Record 25 of Set 8 | omsukchan\n",
      "Processing Record 26 of Set 8 | little baguio\n"
     ]
    },
    {
     "name": "stdout",
     "output_type": "stream",
     "text": [
      "Processing Record 27 of Set 8 | punta de bombon\n",
      "Processing Record 28 of Set 8 | chishan\n",
      "Processing Record 29 of Set 8 | college\n",
      "Processing Record 30 of Set 8 | vaitupu\n",
      "City, vaitupu, not found. Skipping...\n",
      "Processing Record 31 of Set 8 | mayo\n",
      "Processing Record 32 of Set 8 | gao\n",
      "Processing Record 33 of Set 8 | grand river south east\n",
      "City, grand river south east, not found. Skipping...\n",
      "Processing Record 34 of Set 8 | samusu\n",
      "City, samusu, not found. Skipping...\n",
      "Processing Record 35 of Set 8 | pemba\n",
      "Processing Record 36 of Set 8 | bang krathum\n",
      "Processing Record 37 of Set 8 | san policarpo\n",
      "Processing Record 38 of Set 8 | aksum\n",
      "Processing Record 39 of Set 8 | flinders\n",
      "Processing Record 40 of Set 8 | olafsvik\n",
      "Processing Record 41 of Set 8 | lukovetskiy\n",
      "Processing Record 42 of Set 8 | sabang\n",
      "Processing Record 43 of Set 8 | bambanglipuro\n",
      "Processing Record 44 of Set 8 | qaqortoq\n",
      "Processing Record 45 of Set 8 | mount isa\n",
      "Processing Record 46 of Set 8 | tigre\n",
      "Processing Record 47 of Set 8 | mildura\n",
      "Processing Record 48 of Set 8 | zuwarah\n",
      "Processing Record 49 of Set 8 | ndele\n",
      "Processing Record 50 of Set 8 | gaborone\n",
      "Processing Record 1 of Set 9 | tura\n",
      "Processing Record 2 of Set 9 | rabo de peixe\n",
      "Processing Record 3 of Set 9 | vallenar\n",
      "Processing Record 4 of Set 9 | ginda\n",
      "Processing Record 5 of Set 9 | mula\n",
      "Processing Record 6 of Set 9 | mareeba\n",
      "Processing Record 7 of Set 9 | kang\n",
      "Processing Record 8 of Set 9 | paez\n",
      "Processing Record 9 of Set 9 | caravelas\n",
      "Processing Record 10 of Set 9 | petawawa\n",
      "Processing Record 11 of Set 9 | ewa beach\n",
      "Processing Record 12 of Set 9 | kapoeta\n",
      "Processing Record 13 of Set 9 | wajima\n",
      "Processing Record 14 of Set 9 | churapcha\n",
      "Processing Record 15 of Set 9 | isangel\n",
      "Processing Record 16 of Set 9 | san lawrenz\n",
      "Processing Record 17 of Set 9 | hualmay\n",
      "Processing Record 18 of Set 9 | vostok\n",
      "Processing Record 19 of Set 9 | portland\n",
      "Processing Record 20 of Set 9 | aswan\n",
      "Processing Record 21 of Set 9 | basse\n",
      "Processing Record 22 of Set 9 | jejuri\n",
      "Processing Record 23 of Set 9 | falealupo\n",
      "City, falealupo, not found. Skipping...\n",
      "Processing Record 24 of Set 9 | bonavista\n",
      "Processing Record 25 of Set 9 | arcata\n",
      "Processing Record 26 of Set 9 | kankaanpaa\n",
      "Processing Record 27 of Set 9 | yulara\n",
      "Processing Record 28 of Set 9 | le port\n",
      "Processing Record 29 of Set 9 | bintulu\n",
      "Processing Record 30 of Set 9 | chuy\n",
      "Processing Record 31 of Set 9 | matagami\n",
      "Processing Record 32 of Set 9 | hobyo\n",
      "Processing Record 33 of Set 9 | mporokoso\n",
      "Processing Record 34 of Set 9 | weston\n",
      "Processing Record 35 of Set 9 | la sarre\n",
      "Processing Record 36 of Set 9 | praia\n",
      "Processing Record 37 of Set 9 | encheng\n",
      "Processing Record 38 of Set 9 | mandalgovi\n",
      "Processing Record 39 of Set 9 | mattru\n",
      "Processing Record 40 of Set 9 | trairi\n",
      "Processing Record 41 of Set 9 | teya\n",
      "Processing Record 42 of Set 9 | fortuna\n",
      "Processing Record 43 of Set 9 | velke mezirici\n",
      "Processing Record 44 of Set 9 | marakkanam\n",
      "Processing Record 45 of Set 9 | kloulklubed\n",
      "Processing Record 46 of Set 9 | yomitan\n",
      "City, yomitan, not found. Skipping...\n",
      "Processing Record 47 of Set 9 | axim\n",
      "Processing Record 48 of Set 9 | manoel urbano\n",
      "Processing Record 49 of Set 9 | brae\n",
      "Processing Record 50 of Set 9 | mnogovershinnyy\n",
      "Processing Record 1 of Set 10 | majene\n",
      "Processing Record 2 of Set 10 | america dourada\n",
      "Processing Record 3 of Set 10 | bathsheba\n",
      "Processing Record 4 of Set 10 | elko\n",
      "Processing Record 5 of Set 10 | koratla\n",
      "Processing Record 6 of Set 10 | jasper\n",
      "Processing Record 7 of Set 10 | yanam\n",
      "Processing Record 8 of Set 10 | tokmak\n",
      "Processing Record 9 of Set 10 | ubud\n",
      "Processing Record 10 of Set 10 | baculin\n",
      "Processing Record 11 of Set 10 | emerald\n",
      "Processing Record 12 of Set 10 | guerrero negro\n",
      "Processing Record 13 of Set 10 | panama city\n",
      "Processing Record 14 of Set 10 | pudozh\n",
      "Processing Record 15 of Set 10 | dalby\n",
      "Processing Record 16 of Set 10 | nabisar\n",
      "Processing Record 17 of Set 10 | toftir\n",
      "City, toftir, not found. Skipping...\n",
      "Processing Record 18 of Set 10 | waingapu\n",
      "Processing Record 19 of Set 10 | conceicao da barra\n",
      "Processing Record 20 of Set 10 | acarau\n",
      "Processing Record 21 of Set 10 | crotone\n",
      "Processing Record 22 of Set 10 | tual\n",
      "Processing Record 23 of Set 10 | saint-pierre\n",
      "Processing Record 24 of Set 10 | smidovich\n",
      "Processing Record 25 of Set 10 | lahaina\n",
      "Processing Record 26 of Set 10 | port-de-paix\n",
      "City, port-de-paix, not found. Skipping...\n",
      "Processing Record 27 of Set 10 | luebo\n",
      "Processing Record 28 of Set 10 | taoudenni\n",
      "Processing Record 29 of Set 10 | kashi\n",
      "Processing Record 30 of Set 10 | kassala\n",
      "Processing Record 31 of Set 10 | inhambane\n",
      "Processing Record 32 of Set 10 | nizhniy tsasuchey\n",
      "Processing Record 33 of Set 10 | tukrah\n",
      "Processing Record 34 of Set 10 | grand gaube\n",
      "Processing Record 35 of Set 10 | bargal\n",
      "City, bargal, not found. Skipping...\n",
      "Processing Record 36 of Set 10 | new haven\n",
      "Processing Record 37 of Set 10 | saint-augustin\n",
      "Processing Record 38 of Set 10 | gazojak\n",
      "Processing Record 39 of Set 10 | zhoucheng\n",
      "Processing Record 40 of Set 10 | manglisi\n",
      "Processing Record 41 of Set 10 | kemijarvi\n",
      "Processing Record 42 of Set 10 | guntakal\n",
      "Processing Record 43 of Set 10 | haibowan\n",
      "City, haibowan, not found. Skipping...\n",
      "Processing Record 44 of Set 10 | vilyuysk\n",
      "Processing Record 45 of Set 10 | bousse\n",
      "Processing Record 46 of Set 10 | herat\n",
      "Processing Record 47 of Set 10 | dryden\n",
      "Processing Record 48 of Set 10 | mogadouro\n",
      "Processing Record 49 of Set 10 | west lafayette\n",
      "Processing Record 50 of Set 10 | dagana\n",
      "Processing Record 1 of Set 11 | talnakh\n",
      "Processing Record 2 of Set 11 | abeche\n",
      "Processing Record 3 of Set 11 | san andres\n",
      "Processing Record 4 of Set 11 | paso de carrasco\n",
      "Processing Record 5 of Set 11 | baiersbronn\n",
      "Processing Record 6 of Set 11 | anadyr\n",
      "Processing Record 7 of Set 11 | sisimiut\n",
      "Processing Record 8 of Set 11 | altay\n",
      "Processing Record 9 of Set 11 | lucapa\n",
      "Processing Record 10 of Set 11 | phrai bung\n",
      "City, phrai bung, not found. Skipping...\n",
      "Processing Record 11 of Set 11 | sakaraha\n",
      "Processing Record 12 of Set 11 | erenhot\n",
      "Processing Record 13 of Set 11 | cockburn town\n",
      "Processing Record 14 of Set 11 | turkmenabat\n",
      "Processing Record 15 of Set 11 | senneterre\n",
      "Processing Record 16 of Set 11 | poum\n",
      "Processing Record 17 of Set 11 | sinnamary\n",
      "Processing Record 18 of Set 11 | tasiilaq\n",
      "Processing Record 19 of Set 11 | tarudant\n",
      "City, tarudant, not found. Skipping...\n",
      "Processing Record 20 of Set 11 | amapa\n",
      "Processing Record 21 of Set 11 | nizhneangarsk\n",
      "Processing Record 22 of Set 11 | kisangani\n",
      "Processing Record 23 of Set 11 | itaituba\n",
      "Processing Record 24 of Set 11 | ishigaki\n",
      "Processing Record 25 of Set 11 | christchurch\n",
      "Processing Record 26 of Set 11 | jalingo\n",
      "Processing Record 27 of Set 11 | ayrum\n",
      "Processing Record 28 of Set 11 | karatau\n",
      "Processing Record 29 of Set 11 | cerro de pasco\n",
      "Processing Record 30 of Set 11 | quelimane\n",
      "Processing Record 31 of Set 11 | xuddur\n",
      "Processing Record 32 of Set 11 | tianpeng\n",
      "Processing Record 33 of Set 11 | umm lajj\n",
      "Processing Record 34 of Set 11 | la libertad\n",
      "Processing Record 35 of Set 11 | inta\n",
      "Processing Record 36 of Set 11 | ambilobe\n",
      "Processing Record 37 of Set 11 | fukue\n",
      "Processing Record 38 of Set 11 | djambala\n",
      "Processing Record 39 of Set 11 | beyneu\n",
      "Processing Record 40 of Set 11 | havelock\n",
      "Processing Record 41 of Set 11 | malinovskiy\n",
      "Processing Record 42 of Set 11 | lolua\n",
      "City, lolua, not found. Skipping...\n",
      "Processing Record 43 of Set 11 | marawi\n",
      "Processing Record 44 of Set 11 | ketchikan\n",
      "Processing Record 45 of Set 11 | temyasovo\n",
      "Processing Record 46 of Set 11 | ongandjera\n",
      "Processing Record 47 of Set 11 | phatthalung\n",
      "Processing Record 48 of Set 11 | lazaro cardenas\n",
      "Processing Record 49 of Set 11 | sao filipe\n",
      "Processing Record 50 of Set 11 | asau\n",
      "Processing Record 1 of Set 12 | bagotville\n",
      "Processing Record 2 of Set 12 | bida\n",
      "Processing Record 3 of Set 12 | bandarbeyla\n",
      "Processing Record 4 of Set 12 | katunki\n",
      "City, katunki, not found. Skipping...\n",
      "Processing Record 5 of Set 12 | berlevag\n",
      "Processing Record 6 of Set 12 | conceicao do araguaia\n",
      "Processing Record 7 of Set 12 | raton\n",
      "Processing Record 8 of Set 12 | buckingham\n",
      "Processing Record 9 of Set 12 | gewane\n",
      "Processing Record 10 of Set 12 | rio gallegos\n",
      "Processing Record 11 of Set 12 | tazovskiy\n",
      "Processing Record 12 of Set 12 | mandeville\n"
     ]
    },
    {
     "name": "stdout",
     "output_type": "stream",
     "text": [
      "Processing Record 13 of Set 12 | sanming\n",
      "Processing Record 14 of Set 12 | hovd\n",
      "Processing Record 15 of Set 12 | yaan\n",
      "Processing Record 16 of Set 12 | ulladulla\n",
      "Processing Record 17 of Set 12 | dzhusaly\n",
      "City, dzhusaly, not found. Skipping...\n",
      "Processing Record 18 of Set 12 | yuryevets\n",
      "Processing Record 19 of Set 12 | lakselv\n",
      "Processing Record 20 of Set 12 | porto novo\n",
      "Processing Record 21 of Set 12 | innisfail\n",
      "Processing Record 22 of Set 12 | almaznyy\n",
      "Processing Record 23 of Set 12 | sembe\n",
      "Processing Record 24 of Set 12 | grand-santi\n",
      "Processing Record 25 of Set 12 | seymchan\n",
      "Processing Record 26 of Set 12 | haines junction\n",
      "Processing Record 27 of Set 12 | meulaboh\n",
      "Processing Record 28 of Set 12 | yusva\n",
      "City, yusva, not found. Skipping...\n",
      "Processing Record 29 of Set 12 | kenai\n",
      "Processing Record 30 of Set 12 | altamont\n",
      "Processing Record 31 of Set 12 | dasoguz\n",
      "Processing Record 32 of Set 12 | belmonte\n",
      "Processing Record 33 of Set 12 | sangar\n",
      "Processing Record 34 of Set 12 | claveria\n",
      "Processing Record 35 of Set 12 | tromso\n",
      "Processing Record 36 of Set 12 | oistins\n",
      "Processing Record 37 of Set 12 | ruatoria\n",
      "City, ruatoria, not found. Skipping...\n",
      "Processing Record 38 of Set 12 | lumphat\n",
      "Processing Record 39 of Set 12 | te anau\n",
      "Processing Record 40 of Set 12 | solnechnyy\n",
      "Processing Record 41 of Set 12 | karasjok\n",
      "Processing Record 42 of Set 12 | toamasina\n",
      "Processing Record 43 of Set 12 | mahajanga\n",
      "Processing Record 44 of Set 12 | dunedin\n",
      "Processing Record 45 of Set 12 | the valley\n",
      "Processing Record 46 of Set 12 | bievre\n",
      "Processing Record 47 of Set 12 | biak\n",
      "Processing Record 48 of Set 12 | ous\n"
     ]
    }
   ],
   "source": [
    "#Open Weather Map API URL and query URL\n",
    "w_url = 'http://api.openweathermap.org/data/2.5/weather?'\n",
    "query_url = w_url + 'appid=' + weather_api_key + '&q=' \n",
    "\n",
    "#Counters for count and batch; new city weather list\n",
    "count = 1\n",
    "batch = 1\n",
    "city_weather = []\n",
    "\n",
    "#Loop through cities\n",
    "for i, c in enumerate(cities):\n",
    "    \n",
    "    #Try: finding city, creating dictionary, adding appropriate values to city_dict\n",
    "    try:\n",
    "        response = requests.get(query_url + c + str('&units=imperial')).json() #Perform request; change temp from K to F\n",
    "        \n",
    "        print(f'Processing Record {count} of Set {batch} | {c}') \n",
    "        \n",
    "        city_dict = {'City': response['name'],\n",
    "                     'Lat': response['coord']['lat'],\n",
    "                     'Lng': response['coord']['lon'],\n",
    "                     'Max Temp (F)': response['main']['temp_max'],\n",
    "                     'Humidity (%)': response['main']['humidity'],\n",
    "                     'Cloudiness (%)': response['clouds']['all'],\n",
    "                     'Wind Speed (mph)': response['wind']['speed'],\n",
    "                     'Country': response['sys']['country'],\n",
    "                     'Date': response['dt']}\n",
    "        \n",
    "        city_weather.append(city_dict)\n",
    "    \n",
    "    #Except: if city info is not found...\n",
    "    except:\n",
    "        print(f'City, {c}, not found. Skipping...')    \n",
    "   \n",
    "    #Increase count, increase batch once batch hits 51 and reset count to 1\n",
    "    count += 1\n",
    "\n",
    "    if count == 51:\n",
    "        batch +=1\n",
    "        count = 1\n"
   ]
  },
  {
   "cell_type": "markdown",
   "metadata": {},
   "source": [
    "### Convert Raw Data to DataFrame\n",
    "* Export the city data into a .csv.\n",
    "* Display the DataFrame"
   ]
  },
  {
   "cell_type": "code",
   "execution_count": 4,
   "metadata": {},
   "outputs": [
    {
     "data": {
      "text/html": [
       "<div>\n",
       "<style scoped>\n",
       "    .dataframe tbody tr th:only-of-type {\n",
       "        vertical-align: middle;\n",
       "    }\n",
       "\n",
       "    .dataframe tbody tr th {\n",
       "        vertical-align: top;\n",
       "    }\n",
       "\n",
       "    .dataframe thead th {\n",
       "        text-align: right;\n",
       "    }\n",
       "</style>\n",
       "<table border=\"1\" class=\"dataframe\">\n",
       "  <thead>\n",
       "    <tr style=\"text-align: right;\">\n",
       "      <th></th>\n",
       "      <th>City</th>\n",
       "      <th>Lat</th>\n",
       "      <th>Lng</th>\n",
       "      <th>Max Temp (F)</th>\n",
       "      <th>Humidity (%)</th>\n",
       "      <th>Cloudiness (%)</th>\n",
       "      <th>Wind Speed (mph)</th>\n",
       "      <th>Country</th>\n",
       "      <th>Date</th>\n",
       "    </tr>\n",
       "  </thead>\n",
       "  <tbody>\n",
       "    <tr>\n",
       "      <th>0</th>\n",
       "      <td>George Town</td>\n",
       "      <td>5.41</td>\n",
       "      <td>100.34</td>\n",
       "      <td>78.80</td>\n",
       "      <td>94</td>\n",
       "      <td>40</td>\n",
       "      <td>2.64</td>\n",
       "      <td>MY</td>\n",
       "      <td>07/16/2020</td>\n",
       "    </tr>\n",
       "    <tr>\n",
       "      <th>1</th>\n",
       "      <td>Kavieng</td>\n",
       "      <td>-2.57</td>\n",
       "      <td>150.80</td>\n",
       "      <td>81.63</td>\n",
       "      <td>72</td>\n",
       "      <td>4</td>\n",
       "      <td>2.26</td>\n",
       "      <td>PG</td>\n",
       "      <td>07/16/2020</td>\n",
       "    </tr>\n",
       "    <tr>\n",
       "      <th>2</th>\n",
       "      <td>Castro</td>\n",
       "      <td>-24.79</td>\n",
       "      <td>-50.01</td>\n",
       "      <td>70.34</td>\n",
       "      <td>55</td>\n",
       "      <td>0</td>\n",
       "      <td>5.08</td>\n",
       "      <td>BR</td>\n",
       "      <td>07/16/2020</td>\n",
       "    </tr>\n",
       "    <tr>\n",
       "      <th>3</th>\n",
       "      <td>Sur</td>\n",
       "      <td>22.57</td>\n",
       "      <td>59.53</td>\n",
       "      <td>84.87</td>\n",
       "      <td>69</td>\n",
       "      <td>27</td>\n",
       "      <td>12.53</td>\n",
       "      <td>OM</td>\n",
       "      <td>07/16/2020</td>\n",
       "    </tr>\n",
       "    <tr>\n",
       "      <th>4</th>\n",
       "      <td>Barrow</td>\n",
       "      <td>71.29</td>\n",
       "      <td>-156.79</td>\n",
       "      <td>35.60</td>\n",
       "      <td>80</td>\n",
       "      <td>75</td>\n",
       "      <td>10.29</td>\n",
       "      <td>US</td>\n",
       "      <td>07/16/2020</td>\n",
       "    </tr>\n",
       "    <tr>\n",
       "      <th>...</th>\n",
       "      <td>...</td>\n",
       "      <td>...</td>\n",
       "      <td>...</td>\n",
       "      <td>...</td>\n",
       "      <td>...</td>\n",
       "      <td>...</td>\n",
       "      <td>...</td>\n",
       "      <td>...</td>\n",
       "      <td>...</td>\n",
       "    </tr>\n",
       "    <tr>\n",
       "      <th>552</th>\n",
       "      <td>Dunedin</td>\n",
       "      <td>-45.87</td>\n",
       "      <td>170.50</td>\n",
       "      <td>41.00</td>\n",
       "      <td>74</td>\n",
       "      <td>88</td>\n",
       "      <td>1.99</td>\n",
       "      <td>NZ</td>\n",
       "      <td>07/16/2020</td>\n",
       "    </tr>\n",
       "    <tr>\n",
       "      <th>553</th>\n",
       "      <td>The Valley</td>\n",
       "      <td>18.22</td>\n",
       "      <td>-63.06</td>\n",
       "      <td>86.00</td>\n",
       "      <td>69</td>\n",
       "      <td>20</td>\n",
       "      <td>14.99</td>\n",
       "      <td>AI</td>\n",
       "      <td>07/16/2020</td>\n",
       "    </tr>\n",
       "    <tr>\n",
       "      <th>554</th>\n",
       "      <td>Bièvre</td>\n",
       "      <td>49.94</td>\n",
       "      <td>5.02</td>\n",
       "      <td>60.01</td>\n",
       "      <td>95</td>\n",
       "      <td>100</td>\n",
       "      <td>4.09</td>\n",
       "      <td>BE</td>\n",
       "      <td>07/16/2020</td>\n",
       "    </tr>\n",
       "    <tr>\n",
       "      <th>555</th>\n",
       "      <td>Biak</td>\n",
       "      <td>-0.91</td>\n",
       "      <td>122.88</td>\n",
       "      <td>75.29</td>\n",
       "      <td>83</td>\n",
       "      <td>18</td>\n",
       "      <td>3.42</td>\n",
       "      <td>ID</td>\n",
       "      <td>07/16/2020</td>\n",
       "    </tr>\n",
       "    <tr>\n",
       "      <th>556</th>\n",
       "      <td>Ous</td>\n",
       "      <td>60.91</td>\n",
       "      <td>61.52</td>\n",
       "      <td>67.75</td>\n",
       "      <td>84</td>\n",
       "      <td>100</td>\n",
       "      <td>3.02</td>\n",
       "      <td>RU</td>\n",
       "      <td>07/16/2020</td>\n",
       "    </tr>\n",
       "  </tbody>\n",
       "</table>\n",
       "<p>557 rows × 9 columns</p>\n",
       "</div>"
      ],
      "text/plain": [
       "            City    Lat     Lng  Max Temp (F)  Humidity (%)  Cloudiness (%)  \\\n",
       "0    George Town   5.41  100.34         78.80            94              40   \n",
       "1        Kavieng  -2.57  150.80         81.63            72               4   \n",
       "2         Castro -24.79  -50.01         70.34            55               0   \n",
       "3            Sur  22.57   59.53         84.87            69              27   \n",
       "4         Barrow  71.29 -156.79         35.60            80              75   \n",
       "..           ...    ...     ...           ...           ...             ...   \n",
       "552      Dunedin -45.87  170.50         41.00            74              88   \n",
       "553   The Valley  18.22  -63.06         86.00            69              20   \n",
       "554       Bièvre  49.94    5.02         60.01            95             100   \n",
       "555         Biak  -0.91  122.88         75.29            83              18   \n",
       "556          Ous  60.91   61.52         67.75            84             100   \n",
       "\n",
       "     Wind Speed (mph) Country        Date  \n",
       "0                2.64      MY  07/16/2020  \n",
       "1                2.26      PG  07/16/2020  \n",
       "2                5.08      BR  07/16/2020  \n",
       "3               12.53      OM  07/16/2020  \n",
       "4               10.29      US  07/16/2020  \n",
       "..                ...     ...         ...  \n",
       "552              1.99      NZ  07/16/2020  \n",
       "553             14.99      AI  07/16/2020  \n",
       "554              4.09      BE  07/16/2020  \n",
       "555              3.42      ID  07/16/2020  \n",
       "556              3.02      RU  07/16/2020  \n",
       "\n",
       "[557 rows x 9 columns]"
      ]
     },
     "execution_count": 4,
     "metadata": {},
     "output_type": "execute_result"
    }
   ],
   "source": [
    "#Create dataframe from above dictionary for the weather of the cities\n",
    "weather_df = pd.DataFrame(city_weather)\n",
    "\n",
    "#Format the date\n",
    "weather_df['Date'] = pd.to_datetime(weather_df['Date'], unit = 's')\n",
    "weather_df['Date'] = weather_df['Date'].dt.strftime('%m/%d/%Y')\n",
    "\n",
    "#Output the data to a .csv\n",
    "weather_df.to_csv(output_data_file)\n",
    "weather_df"
   ]
  },
  {
   "cell_type": "code",
   "execution_count": 5,
   "metadata": {},
   "outputs": [
    {
     "data": {
      "text/plain": [
       "City                557\n",
       "Lat                 557\n",
       "Lng                 557\n",
       "Max Temp (F)        557\n",
       "Humidity (%)        557\n",
       "Cloudiness (%)      557\n",
       "Wind Speed (mph)    557\n",
       "Country             557\n",
       "Date                557\n",
       "dtype: int64"
      ]
     },
     "execution_count": 5,
     "metadata": {},
     "output_type": "execute_result"
    }
   ],
   "source": [
    "#Dataframe count\n",
    "weather_df.count()"
   ]
  },
  {
   "cell_type": "markdown",
   "metadata": {},
   "source": [
    "## Inspect the data and remove the cities where the humidity > 100%.\n",
    "----\n",
    "Skip this step if there are no cities that have humidity > 100%. "
   ]
  },
  {
   "cell_type": "code",
   "execution_count": 6,
   "metadata": {},
   "outputs": [
    {
     "data": {
      "text/html": [
       "<div>\n",
       "<style scoped>\n",
       "    .dataframe tbody tr th:only-of-type {\n",
       "        vertical-align: middle;\n",
       "    }\n",
       "\n",
       "    .dataframe tbody tr th {\n",
       "        vertical-align: top;\n",
       "    }\n",
       "\n",
       "    .dataframe thead th {\n",
       "        text-align: right;\n",
       "    }\n",
       "</style>\n",
       "<table border=\"1\" class=\"dataframe\">\n",
       "  <thead>\n",
       "    <tr style=\"text-align: right;\">\n",
       "      <th></th>\n",
       "      <th>Lat</th>\n",
       "      <th>Lng</th>\n",
       "      <th>Max Temp (F)</th>\n",
       "      <th>Humidity (%)</th>\n",
       "      <th>Cloudiness (%)</th>\n",
       "      <th>Wind Speed (mph)</th>\n",
       "    </tr>\n",
       "  </thead>\n",
       "  <tbody>\n",
       "    <tr>\n",
       "      <th>count</th>\n",
       "      <td>557.000000</td>\n",
       "      <td>557.000000</td>\n",
       "      <td>557.000000</td>\n",
       "      <td>557.000000</td>\n",
       "      <td>557.00000</td>\n",
       "      <td>557.000000</td>\n",
       "    </tr>\n",
       "    <tr>\n",
       "      <th>mean</th>\n",
       "      <td>19.085799</td>\n",
       "      <td>19.303357</td>\n",
       "      <td>70.070305</td>\n",
       "      <td>68.879713</td>\n",
       "      <td>52.81149</td>\n",
       "      <td>7.672747</td>\n",
       "    </tr>\n",
       "    <tr>\n",
       "      <th>std</th>\n",
       "      <td>33.093446</td>\n",
       "      <td>90.310991</td>\n",
       "      <td>14.803773</td>\n",
       "      <td>21.426256</td>\n",
       "      <td>35.89471</td>\n",
       "      <td>4.881304</td>\n",
       "    </tr>\n",
       "    <tr>\n",
       "      <th>min</th>\n",
       "      <td>-54.800000</td>\n",
       "      <td>-175.200000</td>\n",
       "      <td>26.600000</td>\n",
       "      <td>1.000000</td>\n",
       "      <td>0.00000</td>\n",
       "      <td>0.200000</td>\n",
       "    </tr>\n",
       "    <tr>\n",
       "      <th>25%</th>\n",
       "      <td>-8.420000</td>\n",
       "      <td>-58.650000</td>\n",
       "      <td>59.520000</td>\n",
       "      <td>57.000000</td>\n",
       "      <td>20.00000</td>\n",
       "      <td>4.030000</td>\n",
       "    </tr>\n",
       "    <tr>\n",
       "      <th>50%</th>\n",
       "      <td>21.320000</td>\n",
       "      <td>22.790000</td>\n",
       "      <td>72.370000</td>\n",
       "      <td>73.000000</td>\n",
       "      <td>56.00000</td>\n",
       "      <td>6.710000</td>\n",
       "    </tr>\n",
       "    <tr>\n",
       "      <th>75%</th>\n",
       "      <td>46.620000</td>\n",
       "      <td>100.340000</td>\n",
       "      <td>80.190000</td>\n",
       "      <td>85.000000</td>\n",
       "      <td>90.00000</td>\n",
       "      <td>10.290000</td>\n",
       "    </tr>\n",
       "    <tr>\n",
       "      <th>max</th>\n",
       "      <td>78.220000</td>\n",
       "      <td>179.320000</td>\n",
       "      <td>108.970000</td>\n",
       "      <td>100.000000</td>\n",
       "      <td>100.00000</td>\n",
       "      <td>28.430000</td>\n",
       "    </tr>\n",
       "  </tbody>\n",
       "</table>\n",
       "</div>"
      ],
      "text/plain": [
       "              Lat         Lng  Max Temp (F)  Humidity (%)  Cloudiness (%)  \\\n",
       "count  557.000000  557.000000    557.000000    557.000000       557.00000   \n",
       "mean    19.085799   19.303357     70.070305     68.879713        52.81149   \n",
       "std     33.093446   90.310991     14.803773     21.426256        35.89471   \n",
       "min    -54.800000 -175.200000     26.600000      1.000000         0.00000   \n",
       "25%     -8.420000  -58.650000     59.520000     57.000000        20.00000   \n",
       "50%     21.320000   22.790000     72.370000     73.000000        56.00000   \n",
       "75%     46.620000  100.340000     80.190000     85.000000        90.00000   \n",
       "max     78.220000  179.320000    108.970000    100.000000       100.00000   \n",
       "\n",
       "       Wind Speed (mph)  \n",
       "count        557.000000  \n",
       "mean           7.672747  \n",
       "std            4.881304  \n",
       "min            0.200000  \n",
       "25%            4.030000  \n",
       "50%            6.710000  \n",
       "75%           10.290000  \n",
       "max           28.430000  "
      ]
     },
     "execution_count": 6,
     "metadata": {},
     "output_type": "execute_result"
    }
   ],
   "source": [
    "#Summary statistics of dataframe\n",
    "weather_df.describe()"
   ]
  },
  {
   "cell_type": "code",
   "execution_count": 7,
   "metadata": {},
   "outputs": [
    {
     "data": {
      "text/html": [
       "<div>\n",
       "<style scoped>\n",
       "    .dataframe tbody tr th:only-of-type {\n",
       "        vertical-align: middle;\n",
       "    }\n",
       "\n",
       "    .dataframe tbody tr th {\n",
       "        vertical-align: top;\n",
       "    }\n",
       "\n",
       "    .dataframe thead th {\n",
       "        text-align: right;\n",
       "    }\n",
       "</style>\n",
       "<table border=\"1\" class=\"dataframe\">\n",
       "  <thead>\n",
       "    <tr style=\"text-align: right;\">\n",
       "      <th></th>\n",
       "      <th>City</th>\n",
       "      <th>Lat</th>\n",
       "      <th>Lng</th>\n",
       "      <th>Max Temp (F)</th>\n",
       "      <th>Humidity (%)</th>\n",
       "      <th>Cloudiness (%)</th>\n",
       "      <th>Wind Speed (mph)</th>\n",
       "      <th>Country</th>\n",
       "      <th>Date</th>\n",
       "    </tr>\n",
       "  </thead>\n",
       "  <tbody>\n",
       "    <tr>\n",
       "      <th>0</th>\n",
       "      <td>George Town</td>\n",
       "      <td>5.41</td>\n",
       "      <td>100.34</td>\n",
       "      <td>78.80</td>\n",
       "      <td>94</td>\n",
       "      <td>40</td>\n",
       "      <td>2.64</td>\n",
       "      <td>MY</td>\n",
       "      <td>07/16/2020</td>\n",
       "    </tr>\n",
       "    <tr>\n",
       "      <th>1</th>\n",
       "      <td>Kavieng</td>\n",
       "      <td>-2.57</td>\n",
       "      <td>150.80</td>\n",
       "      <td>81.63</td>\n",
       "      <td>72</td>\n",
       "      <td>4</td>\n",
       "      <td>2.26</td>\n",
       "      <td>PG</td>\n",
       "      <td>07/16/2020</td>\n",
       "    </tr>\n",
       "    <tr>\n",
       "      <th>2</th>\n",
       "      <td>Castro</td>\n",
       "      <td>-24.79</td>\n",
       "      <td>-50.01</td>\n",
       "      <td>70.34</td>\n",
       "      <td>55</td>\n",
       "      <td>0</td>\n",
       "      <td>5.08</td>\n",
       "      <td>BR</td>\n",
       "      <td>07/16/2020</td>\n",
       "    </tr>\n",
       "    <tr>\n",
       "      <th>3</th>\n",
       "      <td>Sur</td>\n",
       "      <td>22.57</td>\n",
       "      <td>59.53</td>\n",
       "      <td>84.87</td>\n",
       "      <td>69</td>\n",
       "      <td>27</td>\n",
       "      <td>12.53</td>\n",
       "      <td>OM</td>\n",
       "      <td>07/16/2020</td>\n",
       "    </tr>\n",
       "    <tr>\n",
       "      <th>4</th>\n",
       "      <td>Barrow</td>\n",
       "      <td>71.29</td>\n",
       "      <td>-156.79</td>\n",
       "      <td>35.60</td>\n",
       "      <td>80</td>\n",
       "      <td>75</td>\n",
       "      <td>10.29</td>\n",
       "      <td>US</td>\n",
       "      <td>07/16/2020</td>\n",
       "    </tr>\n",
       "    <tr>\n",
       "      <th>...</th>\n",
       "      <td>...</td>\n",
       "      <td>...</td>\n",
       "      <td>...</td>\n",
       "      <td>...</td>\n",
       "      <td>...</td>\n",
       "      <td>...</td>\n",
       "      <td>...</td>\n",
       "      <td>...</td>\n",
       "      <td>...</td>\n",
       "    </tr>\n",
       "    <tr>\n",
       "      <th>552</th>\n",
       "      <td>Dunedin</td>\n",
       "      <td>-45.87</td>\n",
       "      <td>170.50</td>\n",
       "      <td>41.00</td>\n",
       "      <td>74</td>\n",
       "      <td>88</td>\n",
       "      <td>1.99</td>\n",
       "      <td>NZ</td>\n",
       "      <td>07/16/2020</td>\n",
       "    </tr>\n",
       "    <tr>\n",
       "      <th>553</th>\n",
       "      <td>The Valley</td>\n",
       "      <td>18.22</td>\n",
       "      <td>-63.06</td>\n",
       "      <td>86.00</td>\n",
       "      <td>69</td>\n",
       "      <td>20</td>\n",
       "      <td>14.99</td>\n",
       "      <td>AI</td>\n",
       "      <td>07/16/2020</td>\n",
       "    </tr>\n",
       "    <tr>\n",
       "      <th>554</th>\n",
       "      <td>Bièvre</td>\n",
       "      <td>49.94</td>\n",
       "      <td>5.02</td>\n",
       "      <td>60.01</td>\n",
       "      <td>95</td>\n",
       "      <td>100</td>\n",
       "      <td>4.09</td>\n",
       "      <td>BE</td>\n",
       "      <td>07/16/2020</td>\n",
       "    </tr>\n",
       "    <tr>\n",
       "      <th>555</th>\n",
       "      <td>Biak</td>\n",
       "      <td>-0.91</td>\n",
       "      <td>122.88</td>\n",
       "      <td>75.29</td>\n",
       "      <td>83</td>\n",
       "      <td>18</td>\n",
       "      <td>3.42</td>\n",
       "      <td>ID</td>\n",
       "      <td>07/16/2020</td>\n",
       "    </tr>\n",
       "    <tr>\n",
       "      <th>556</th>\n",
       "      <td>Ous</td>\n",
       "      <td>60.91</td>\n",
       "      <td>61.52</td>\n",
       "      <td>67.75</td>\n",
       "      <td>84</td>\n",
       "      <td>100</td>\n",
       "      <td>3.02</td>\n",
       "      <td>RU</td>\n",
       "      <td>07/16/2020</td>\n",
       "    </tr>\n",
       "  </tbody>\n",
       "</table>\n",
       "<p>557 rows × 9 columns</p>\n",
       "</div>"
      ],
      "text/plain": [
       "            City    Lat     Lng  Max Temp (F)  Humidity (%)  Cloudiness (%)  \\\n",
       "0    George Town   5.41  100.34         78.80            94              40   \n",
       "1        Kavieng  -2.57  150.80         81.63            72               4   \n",
       "2         Castro -24.79  -50.01         70.34            55               0   \n",
       "3            Sur  22.57   59.53         84.87            69              27   \n",
       "4         Barrow  71.29 -156.79         35.60            80              75   \n",
       "..           ...    ...     ...           ...           ...             ...   \n",
       "552      Dunedin -45.87  170.50         41.00            74              88   \n",
       "553   The Valley  18.22  -63.06         86.00            69              20   \n",
       "554       Bièvre  49.94    5.02         60.01            95             100   \n",
       "555         Biak  -0.91  122.88         75.29            83              18   \n",
       "556          Ous  60.91   61.52         67.75            84             100   \n",
       "\n",
       "     Wind Speed (mph) Country        Date  \n",
       "0                2.64      MY  07/16/2020  \n",
       "1                2.26      PG  07/16/2020  \n",
       "2                5.08      BR  07/16/2020  \n",
       "3               12.53      OM  07/16/2020  \n",
       "4               10.29      US  07/16/2020  \n",
       "..                ...     ...         ...  \n",
       "552              1.99      NZ  07/16/2020  \n",
       "553             14.99      AI  07/16/2020  \n",
       "554              4.09      BE  07/16/2020  \n",
       "555              3.42      ID  07/16/2020  \n",
       "556              3.02      RU  07/16/2020  \n",
       "\n",
       "[557 rows x 9 columns]"
      ]
     },
     "execution_count": 7,
     "metadata": {},
     "output_type": "execute_result"
    }
   ],
   "source": [
    "#Make a new DataFrame equal to the city data to drop all humidity outliers by index.\n",
    "city_data = weather_df\n",
    "city_data"
   ]
  },
  {
   "cell_type": "code",
   "execution_count": 8,
   "metadata": {},
   "outputs": [
    {
     "data": {
      "text/plain": [
       "Int64Index([], dtype='int64')"
      ]
     },
     "execution_count": 8,
     "metadata": {},
     "output_type": "execute_result"
    }
   ],
   "source": [
    "#Get the indices of cities that have humidity over 100%.\n",
    "humidityindex = city_data[city_data['Humidity (%)']>100].index\n",
    "humidityindex"
   ]
  },
  {
   "cell_type": "code",
   "execution_count": 9,
   "metadata": {},
   "outputs": [
    {
     "data": {
      "text/html": [
       "<div>\n",
       "<style scoped>\n",
       "    .dataframe tbody tr th:only-of-type {\n",
       "        vertical-align: middle;\n",
       "    }\n",
       "\n",
       "    .dataframe tbody tr th {\n",
       "        vertical-align: top;\n",
       "    }\n",
       "\n",
       "    .dataframe thead th {\n",
       "        text-align: right;\n",
       "    }\n",
       "</style>\n",
       "<table border=\"1\" class=\"dataframe\">\n",
       "  <thead>\n",
       "    <tr style=\"text-align: right;\">\n",
       "      <th></th>\n",
       "      <th>City</th>\n",
       "      <th>Lat</th>\n",
       "      <th>Lng</th>\n",
       "      <th>Max Temp (F)</th>\n",
       "      <th>Humidity (%)</th>\n",
       "      <th>Cloudiness (%)</th>\n",
       "      <th>Wind Speed (mph)</th>\n",
       "      <th>Country</th>\n",
       "      <th>Date</th>\n",
       "    </tr>\n",
       "  </thead>\n",
       "  <tbody>\n",
       "    <tr>\n",
       "      <th>0</th>\n",
       "      <td>George Town</td>\n",
       "      <td>5.41</td>\n",
       "      <td>100.34</td>\n",
       "      <td>78.80</td>\n",
       "      <td>94</td>\n",
       "      <td>40</td>\n",
       "      <td>2.64</td>\n",
       "      <td>MY</td>\n",
       "      <td>07/16/2020</td>\n",
       "    </tr>\n",
       "    <tr>\n",
       "      <th>1</th>\n",
       "      <td>Kavieng</td>\n",
       "      <td>-2.57</td>\n",
       "      <td>150.80</td>\n",
       "      <td>81.63</td>\n",
       "      <td>72</td>\n",
       "      <td>4</td>\n",
       "      <td>2.26</td>\n",
       "      <td>PG</td>\n",
       "      <td>07/16/2020</td>\n",
       "    </tr>\n",
       "    <tr>\n",
       "      <th>2</th>\n",
       "      <td>Castro</td>\n",
       "      <td>-24.79</td>\n",
       "      <td>-50.01</td>\n",
       "      <td>70.34</td>\n",
       "      <td>55</td>\n",
       "      <td>0</td>\n",
       "      <td>5.08</td>\n",
       "      <td>BR</td>\n",
       "      <td>07/16/2020</td>\n",
       "    </tr>\n",
       "    <tr>\n",
       "      <th>3</th>\n",
       "      <td>Sur</td>\n",
       "      <td>22.57</td>\n",
       "      <td>59.53</td>\n",
       "      <td>84.87</td>\n",
       "      <td>69</td>\n",
       "      <td>27</td>\n",
       "      <td>12.53</td>\n",
       "      <td>OM</td>\n",
       "      <td>07/16/2020</td>\n",
       "    </tr>\n",
       "    <tr>\n",
       "      <th>4</th>\n",
       "      <td>Barrow</td>\n",
       "      <td>71.29</td>\n",
       "      <td>-156.79</td>\n",
       "      <td>35.60</td>\n",
       "      <td>80</td>\n",
       "      <td>75</td>\n",
       "      <td>10.29</td>\n",
       "      <td>US</td>\n",
       "      <td>07/16/2020</td>\n",
       "    </tr>\n",
       "    <tr>\n",
       "      <th>...</th>\n",
       "      <td>...</td>\n",
       "      <td>...</td>\n",
       "      <td>...</td>\n",
       "      <td>...</td>\n",
       "      <td>...</td>\n",
       "      <td>...</td>\n",
       "      <td>...</td>\n",
       "      <td>...</td>\n",
       "      <td>...</td>\n",
       "    </tr>\n",
       "    <tr>\n",
       "      <th>552</th>\n",
       "      <td>Dunedin</td>\n",
       "      <td>-45.87</td>\n",
       "      <td>170.50</td>\n",
       "      <td>41.00</td>\n",
       "      <td>74</td>\n",
       "      <td>88</td>\n",
       "      <td>1.99</td>\n",
       "      <td>NZ</td>\n",
       "      <td>07/16/2020</td>\n",
       "    </tr>\n",
       "    <tr>\n",
       "      <th>553</th>\n",
       "      <td>The Valley</td>\n",
       "      <td>18.22</td>\n",
       "      <td>-63.06</td>\n",
       "      <td>86.00</td>\n",
       "      <td>69</td>\n",
       "      <td>20</td>\n",
       "      <td>14.99</td>\n",
       "      <td>AI</td>\n",
       "      <td>07/16/2020</td>\n",
       "    </tr>\n",
       "    <tr>\n",
       "      <th>554</th>\n",
       "      <td>Bièvre</td>\n",
       "      <td>49.94</td>\n",
       "      <td>5.02</td>\n",
       "      <td>60.01</td>\n",
       "      <td>95</td>\n",
       "      <td>100</td>\n",
       "      <td>4.09</td>\n",
       "      <td>BE</td>\n",
       "      <td>07/16/2020</td>\n",
       "    </tr>\n",
       "    <tr>\n",
       "      <th>555</th>\n",
       "      <td>Biak</td>\n",
       "      <td>-0.91</td>\n",
       "      <td>122.88</td>\n",
       "      <td>75.29</td>\n",
       "      <td>83</td>\n",
       "      <td>18</td>\n",
       "      <td>3.42</td>\n",
       "      <td>ID</td>\n",
       "      <td>07/16/2020</td>\n",
       "    </tr>\n",
       "    <tr>\n",
       "      <th>556</th>\n",
       "      <td>Ous</td>\n",
       "      <td>60.91</td>\n",
       "      <td>61.52</td>\n",
       "      <td>67.75</td>\n",
       "      <td>84</td>\n",
       "      <td>100</td>\n",
       "      <td>3.02</td>\n",
       "      <td>RU</td>\n",
       "      <td>07/16/2020</td>\n",
       "    </tr>\n",
       "  </tbody>\n",
       "</table>\n",
       "<p>557 rows × 9 columns</p>\n",
       "</div>"
      ],
      "text/plain": [
       "            City    Lat     Lng  Max Temp (F)  Humidity (%)  Cloudiness (%)  \\\n",
       "0    George Town   5.41  100.34         78.80            94              40   \n",
       "1        Kavieng  -2.57  150.80         81.63            72               4   \n",
       "2         Castro -24.79  -50.01         70.34            55               0   \n",
       "3            Sur  22.57   59.53         84.87            69              27   \n",
       "4         Barrow  71.29 -156.79         35.60            80              75   \n",
       "..           ...    ...     ...           ...           ...             ...   \n",
       "552      Dunedin -45.87  170.50         41.00            74              88   \n",
       "553   The Valley  18.22  -63.06         86.00            69              20   \n",
       "554       Bièvre  49.94    5.02         60.01            95             100   \n",
       "555         Biak  -0.91  122.88         75.29            83              18   \n",
       "556          Ous  60.91   61.52         67.75            84             100   \n",
       "\n",
       "     Wind Speed (mph) Country        Date  \n",
       "0                2.64      MY  07/16/2020  \n",
       "1                2.26      PG  07/16/2020  \n",
       "2                5.08      BR  07/16/2020  \n",
       "3               12.53      OM  07/16/2020  \n",
       "4               10.29      US  07/16/2020  \n",
       "..                ...     ...         ...  \n",
       "552              1.99      NZ  07/16/2020  \n",
       "553             14.99      AI  07/16/2020  \n",
       "554              4.09      BE  07/16/2020  \n",
       "555              3.42      ID  07/16/2020  \n",
       "556              3.02      RU  07/16/2020  \n",
       "\n",
       "[557 rows x 9 columns]"
      ]
     },
     "execution_count": 9,
     "metadata": {},
     "output_type": "execute_result"
    }
   ],
   "source": [
    "#Passing \"inplace=False\" will make a copy of the city_data DataFrame, which we call \"clean_city_data\".\n",
    "#Extract relevant fields from the data frame\n",
    "clean_city_data = city_data.drop(humidityindex, inplace=False)                                      \n",
    "clean_city_data"
   ]
  },
  {
   "cell_type": "code",
   "execution_count": 10,
   "metadata": {},
   "outputs": [],
   "source": [
    "#Export the City_Data into a csv\n",
    "clean_city_data.to_csv('output_data/CleanCityData.csv')"
   ]
  },
  {
   "cell_type": "markdown",
   "metadata": {},
   "source": [
    "## Plotting the Data\n",
    "* Use proper labeling of the plots using plot titles (including date of analysis) and axes labels.\n",
    "* Save the plotted figures as .pngs."
   ]
  },
  {
   "cell_type": "markdown",
   "metadata": {},
   "source": [
    "## Latitude vs. Temperature Plot"
   ]
  },
  {
   "cell_type": "code",
   "execution_count": 11,
   "metadata": {
    "scrolled": true
   },
   "outputs": [],
   "source": [
    "#Function for creating scatterplots\n",
    "def temp(y, x=(clean_city_data['Lat'])):\n",
    "    plt.scatter(x,y, marker = 'o', edgecolor = 'black', facecolor = 'purple') #Create plot\n",
    "    plt.xlabel(x.name + 'itude')\n",
    "    plt.ylabel(y.name)\n",
    "    plt.title('City ' + x.name + 'itude vs. ' + y.name + ' - (' + clean_city_data['Date'][0] + ')')\n",
    "    plt.grid()\n",
    "    plt.savefig('output_data/' + x.name + y.name + '.png') #Saving images"
   ]
  },
  {
   "cell_type": "code",
   "execution_count": 12,
   "metadata": {},
   "outputs": [
    {
     "data": {
      "image/png": "[encoded data removed]",
      "text/plain": [
       "<Figure size 432x288 with 1 Axes>"
      ]
     },
     "metadata": {
      "needs_background": "light"
     },
     "output_type": "display_data"
    }
   ],
   "source": [
    "#Latitude vs. Max Temp Plot\n",
    "temp(clean_city_data['Max Temp (F)'])"
   ]
  },
  {
   "cell_type": "markdown",
   "metadata": {},
   "source": [
    "The above scatterplot is an analysis of latitude of over 500 randomly selected cities versus the maximum temperature of each city. From the pattern of this graph, it appears several cities located close to the equator have higher maximum temperatures than cities located further away from the equator. "
   ]
  },
  {
   "cell_type": "markdown",
   "metadata": {},
   "source": [
    "## Latitude vs. Humidity Plot"
   ]
  },
  {
   "cell_type": "code",
   "execution_count": 13,
   "metadata": {},
   "outputs": [
    {
     "data": {
      "image/png": "[encoded data removed]",
      "text/plain": [
       "<Figure size 432x288 with 1 Axes>"
      ]
     },
     "metadata": {
      "needs_background": "light"
     },
     "output_type": "display_data"
    }
   ],
   "source": [
    "#Latitude vs. Humidity Plot\n",
    "temp(clean_city_data['Humidity (%)'])"
   ]
  },
  {
   "cell_type": "markdown",
   "metadata": {},
   "source": [
    "The above scatterplot is an analysis of latitude of over 500 randomly selected cities versus the percentage of humidity in each city. After observing this graph, there does not appear to be a relationship between the location of a city and the city's humidity. "
   ]
  },
  {
   "cell_type": "markdown",
   "metadata": {},
   "source": [
    "## Latitude vs. Cloudiness Plot"
   ]
  },
  {
   "cell_type": "code",
   "execution_count": 14,
   "metadata": {},
   "outputs": [
    {
     "data": {
      "image/png": "[encoded data removed]",
      "text/plain": [
       "<Figure size 432x288 with 1 Axes>"
      ]
     },
     "metadata": {
      "needs_background": "light"
     },
     "output_type": "display_data"
    }
   ],
   "source": [
    "#Latitude vs. Cloudiness Plot\n",
    "temp(clean_city_data['Cloudiness (%)'])"
   ]
  },
  {
   "cell_type": "markdown",
   "metadata": {},
   "source": [
    "The above scatterplot is an analysis of latitude of over 500 randomly selected cities versus the percentage of cloudiness of each city. After observing this graph, there does not appear to be a relationship between the location of a city and the city's cloudiness."
   ]
  },
  {
   "cell_type": "markdown",
   "metadata": {},
   "source": [
    "## Latitude vs. Wind Speed Plot"
   ]
  },
  {
   "cell_type": "code",
   "execution_count": 15,
   "metadata": {},
   "outputs": [
    {
     "data": {
      "image/png": "[encoded data removed]",
      "text/plain": [
       "<Figure size 432x288 with 1 Axes>"
      ]
     },
     "metadata": {
      "needs_background": "light"
     },
     "output_type": "display_data"
    }
   ],
   "source": [
    "#Latitude vs. Wind Speed Plot\n",
    "temp(clean_city_data['Wind Speed (mph)'])"
   ]
  },
  {
   "cell_type": "markdown",
   "metadata": {},
   "source": [
    "The above scatterplot is an analysis of latitude of over 500 randomly selected cities versus the wind speed of each city. After observing this graph, there does not appear to be a relationship between the location of a city and the city's wind speed."
   ]
  },
  {
   "cell_type": "markdown",
   "metadata": {},
   "source": [
    "## Linear Regression"
   ]
  },
  {
   "cell_type": "code",
   "execution_count": 16,
   "metadata": {},
   "outputs": [],
   "source": [
    "#Function to create Linear Regression plots\n",
    "def lin_reg(y, x=clean_city_data['Lat']):\n",
    "    (slope, intercept, rvalue, pvalue, stderr) = linregress(x, y) #Create linreg line\n",
    "    regress_values = x * slope + intercept\n",
    "    line_eq = 'y = ' + str(round(slope,2)) + 'x + ' + str(round(intercept,2)) #LinReg equation\n",
    "    plt.scatter(x,y) #Create plot\n",
    "    plt.plot(x, regress_values,\"r-\")\n",
    "    plt.annotate(line_eq, params, fontsize=15, color='red')\n",
    "    plt.xlabel(x.name + 'itude')\n",
    "    plt.ylabel(y.name)\n",
    "    plt.title('City ' + x.name + 'itude vs. ' + y.name + ' - (' + clean_city_data['Date'][0] + ')')\n",
    "    print(f'The correlation coefficient, r, is: {rvalue}') #Printing the r value\n",
    "    print(f'And r-squared is: {rvalue**2}') #Printing the r squared value\n"
   ]
  },
  {
   "cell_type": "code",
   "execution_count": 17,
   "metadata": {},
   "outputs": [],
   "source": [
    "#Create Northern and Southern Hemisphere DataFrames\n",
    "north_df = clean_city_data.loc[clean_city_data['Lat']>=0, :]\n",
    "#print(north_df.count()) #Total points in plots below\n",
    "\n",
    "south_df = clean_city_data.loc[clean_city_data['Lat']<0, :]\n",
    "#print(south_df.count()) #Total points in plots below"
   ]
  },
  {
   "cell_type": "markdown",
   "metadata": {},
   "source": [
    "####  Northern Hemisphere - Max Temp vs. Latitude Linear Regression"
   ]
  },
  {
   "cell_type": "code",
   "execution_count": 18,
   "metadata": {},
   "outputs": [
    {
     "name": "stdout",
     "output_type": "stream",
     "text": [
      "The correlation coefficient, r, is: -0.7104844589676614\n",
      "And r-squared is: 0.5047881664345706\n"
     ]
    },
    {
     "data": {
      "image/png": "[encoded data removed]",
      "text/plain": [
       "<Figure size 432x288 with 1 Axes>"
      ]
     },
     "metadata": {
      "needs_background": "light"
     },
     "output_type": "display_data"
    }
   ],
   "source": [
    "#Latitude vs. Max Temp Linear Regression - Northern Hemisphere\n",
    "params = (10,40)\n",
    "lin_reg(north_df['Max Temp (F)'], x = north_df['Lat'])\n",
    "plt.savefig('output_data/NorthLatTempLinReg.png')"
   ]
  },
  {
   "cell_type": "markdown",
   "metadata": {},
   "source": [
    "The above linear regression graph is an analysis of latitude of randomly selected cities in the northern hemisphere versus the maximum temperature of each city. Due to the pattern of this graph, and the correlation coefficient, it is evident there is a negative correlation between the two variables. It's safe to say the further north of the equator the city is, the cooler the maximum temperature is in the northern hemisphere."
   ]
  },
  {
   "cell_type": "markdown",
   "metadata": {},
   "source": [
    "####  Southern Hemisphere - Max Temp vs. Latitude Linear Regression"
   ]
  },
  {
   "cell_type": "code",
   "execution_count": 19,
   "metadata": {},
   "outputs": [
    {
     "name": "stdout",
     "output_type": "stream",
     "text": [
      "The correlation coefficient, r, is: 0.8342209427773695\n",
      "And r-squared is: 0.6959245813683631\n"
     ]
    },
    {
     "data": {
      "image/png": "[encoded data removed]",
      "text/plain": [
       "<Figure size 432x288 with 1 Axes>"
      ]
     },
     "metadata": {
      "needs_background": "light"
     },
     "output_type": "display_data"
    }
   ],
   "source": [
    "#Latitude vs. Max Temp Linear Regression - Southern hemisphere\n",
    "params = (-25,35)\n",
    "lin_reg(south_df['Max Temp (F)'], x = south_df['Lat'])\n",
    "plt.savefig('output_data/SouthLatTempLinReg.png')"
   ]
  },
  {
   "cell_type": "markdown",
   "metadata": {},
   "source": [
    "The above linear regression graph is an analysis of latitude of randomly selected cities in the southern hemisphere versus the maximum temperature of each city. Due to the pattern of this graph, and the correlation coefficient, it is evident there is a strong positive correlation between the two variables. It's safe to say the closer a city is located to the equator, the hotter the maximum temperature is in the southern hemisphere."
   ]
  },
  {
   "cell_type": "markdown",
   "metadata": {},
   "source": [
    "####  Northern Hemisphere - Humidity (%) vs. Latitude Linear Regression"
   ]
  },
  {
   "cell_type": "code",
   "execution_count": 20,
   "metadata": {},
   "outputs": [
    {
     "name": "stdout",
     "output_type": "stream",
     "text": [
      "The correlation coefficient, r, is: 0.10030781219743236\n",
      "And r-squared is: 0.01006165718783536\n"
     ]
    },
    {
     "data": {
      "image/png": "[encoded data removed]",
      "text/plain": [
       "<Figure size 432x288 with 1 Axes>"
      ]
     },
     "metadata": {
      "needs_background": "light"
     },
     "output_type": "display_data"
    }
   ],
   "source": [
    "#Latitude vs. Humidity Linear Regression - Northern Hemisphere\n",
    "params = (45,30)\n",
    "lin_reg(north_df['Humidity (%)'], x = north_df['Lat'])\n",
    "plt.savefig('output_data/NorthLatHumLinReg.png')"
   ]
  },
  {
   "cell_type": "markdown",
   "metadata": {},
   "source": [
    "The above linear regression graph is an analysis of the latitude of randomly selected cities in the northern hemisphere versus the humidity of each city. Due to the pattern of this graph, and the correlation coefficient, it is evident there's no correlation between the two variables. It's safe to say the latitude of a city does not necessarily correlate to the city's humidity in the northern hemisphere. "
   ]
  },
  {
   "cell_type": "markdown",
   "metadata": {},
   "source": [
    "####  Southern Hemisphere - Humidity (%) vs. Latitude Linear Regression"
   ]
  },
  {
   "cell_type": "code",
   "execution_count": 21,
   "metadata": {},
   "outputs": [
    {
     "name": "stdout",
     "output_type": "stream",
     "text": [
      "The correlation coefficient, r, is: -0.09886762158554807\n",
      "And r-squared is: 0.00977480659798313\n"
     ]
    },
    {
     "data": {
      "image/png": "[encoded data removed]",
      "text/plain": [
       "<Figure size 432x288 with 1 Axes>"
      ]
     },
     "metadata": {
      "needs_background": "light"
     },
     "output_type": "display_data"
    }
   ],
   "source": [
    "#Latitude vs. Humidity Linear Regression - Southern Hemisphere\n",
    "params = (-50,10)\n",
    "lin_reg(south_df['Humidity (%)'], x = south_df['Lat'])\n",
    "plt.savefig('output_data/SouthLatHumLinReg.png')"
   ]
  },
  {
   "cell_type": "markdown",
   "metadata": {},
   "source": [
    "The above linear regression graph is an analysis of the latitude of randomly selected cities in the southern hemisphere versus the humidity of each city. Due to the pattern of this graph, and the correlation coefficient, it is evident there's no correlation between the two variables. It's safe to say the latitude of a city does not necessarily correlate to the city's humidity in the southern hemisphere. (Similar to the previous northern hemisphere graph of latitude versus maximum temperature)."
   ]
  },
  {
   "cell_type": "markdown",
   "metadata": {},
   "source": [
    "####  Northern Hemisphere - Cloudiness (%) vs. Latitude Linear Regression"
   ]
  },
  {
   "cell_type": "code",
   "execution_count": 22,
   "metadata": {},
   "outputs": [
    {
     "name": "stdout",
     "output_type": "stream",
     "text": [
      "The correlation coefficient, r, is: 0.04712644577058634\n",
      "And r-squared is: 0.002220901890968015\n"
     ]
    },
    {
     "data": {
      "image/png": "[encoded data removed]",
      "text/plain": [
       "<Figure size 432x288 with 1 Axes>"
      ]
     },
     "metadata": {
      "needs_background": "light"
     },
     "output_type": "display_data"
    }
   ],
   "source": [
    "#Latitude vs Cloudiness Linear Regression - Northern Hemisphere\n",
    "params = (45,30)\n",
    "lin_reg(north_df['Cloudiness (%)'], x = north_df['Lat'])\n",
    "plt.savefig('output_data/NorthLatCloudLinReg.png')"
   ]
  },
  {
   "cell_type": "markdown",
   "metadata": {},
   "source": [
    "The above linear regression graph is an analysis of the latitude of randomly selected cities in the northern hemisphere versus the cloudiness of each city. Due to the pattern of this graph, and the correlation coefficient, it is evident there's no correlation between the two variables. It's safe to say the latitude of a city does not necessarily correlate to the city's cloudiness in the northern hemisphere."
   ]
  },
  {
   "cell_type": "markdown",
   "metadata": {},
   "source": [
    "####  Southern Hemisphere - Cloudiness (%) vs. Latitude Linear Regression"
   ]
  },
  {
   "cell_type": "code",
   "execution_count": 23,
   "metadata": {},
   "outputs": [
    {
     "name": "stdout",
     "output_type": "stream",
     "text": [
      "The correlation coefficient, r, is: -0.06840165960853124\n",
      "And r-squared is: 0.004678787037201374\n"
     ]
    },
    {
     "data": {
      "image/png": "[encoded data removed]",
      "text/plain": [
       "<Figure size 432x288 with 1 Axes>"
      ]
     },
     "metadata": {
      "needs_background": "light"
     },
     "output_type": "display_data"
    }
   ],
   "source": [
    "#Latitude vs Cloudiness Linear Regression - Southern Hemisphere\n",
    "params = (-50,10)\n",
    "lin_reg(south_df['Cloudiness (%)'], x = south_df['Lat'])\n",
    "plt.savefig('output_data/SouthLatCloudLinReg.png')"
   ]
  },
  {
   "cell_type": "markdown",
   "metadata": {},
   "source": [
    "The above linear regression graph is an analysis of the latitude of randomly selected cities in the southern hemisphere versus the cloudiness of each city. Due to the pattern of this graph, and the correlation coefficient, it is evident there's no correlation between the two variables. It's safe to say the latitude of a city does not necessarily correlate to the city's cloudiness in the southern hemisphere. (Similar to the previous northern hemisphere graph of latitude versus cloudiness)."
   ]
  },
  {
   "cell_type": "markdown",
   "metadata": {},
   "source": [
    "####  Northern Hemisphere - Wind Speed (mph) vs. Latitude Linear Regression"
   ]
  },
  {
   "cell_type": "code",
   "execution_count": 24,
   "metadata": {},
   "outputs": [
    {
     "name": "stdout",
     "output_type": "stream",
     "text": [
      "The correlation coefficient, r, is: -0.011298240267229274\n",
      "And r-squared is: 0.00012765023313604103\n"
     ]
    },
    {
     "data": {
      "image/png": "[encoded data removed]",
      "text/plain": [
       "<Figure size 432x288 with 1 Axes>"
      ]
     },
     "metadata": {
      "needs_background": "light"
     },
     "output_type": "display_data"
    }
   ],
   "source": [
    "#Latitude vs Wind Speed Linear Regression - Northern Hemisphere\n",
    "params = (5,15)\n",
    "lin_reg(north_df['Wind Speed (mph)'], x = north_df['Lat'])\n",
    "plt.savefig('output_data/NorthLatWindLinReg.png')"
   ]
  },
  {
   "cell_type": "markdown",
   "metadata": {},
   "source": [
    "The above linear regression graph is an analysis of the latitude of randomly selected cities in the northern hemisphere versus the wind speed of each city. Due to the pattern of this graph, and the correlation coefficient, it is evident there's no correlation between the two variables. It's safe to say the latitude of a city does not necessarily correlate to the city's wind speed in the northern hemisphere."
   ]
  },
  {
   "cell_type": "markdown",
   "metadata": {},
   "source": [
    "####  Southern Hemisphere - Wind Speed (mph) vs. Latitude Linear Regression"
   ]
  },
  {
   "cell_type": "code",
   "execution_count": 25,
   "metadata": {},
   "outputs": [
    {
     "name": "stdout",
     "output_type": "stream",
     "text": [
      "The correlation coefficient, r, is: 0.04899633046142828\n",
      "And r-squared is: 0.002400640398685485\n"
     ]
    },
    {
     "data": {
      "image/png": "[encoded data removed]",
      "text/plain": [
       "<Figure size 432x288 with 1 Axes>"
      ]
     },
     "metadata": {
      "needs_background": "light"
     },
     "output_type": "display_data"
    }
   ],
   "source": [
    "#Latitude vs Wind Speed Linear Regression - Southern Hemisphere\n",
    "params = (-50,15)\n",
    "lin_reg(south_df['Wind Speed (mph)'], x = south_df['Lat'])\n",
    "plt.savefig('output_data/SouthLatWindLinReg.png')"
   ]
  },
  {
   "cell_type": "markdown",
   "metadata": {},
   "source": [
    "The above linear regression graph is an analysis of the latitude of randomly selected cities in the southern hemisphere versus the wind speed of each city. Due to the pattern of this graph, and the correlation coefficient, it is evident there's no correlation between the two variables. It's safe to say the latitude of a city does not necessarily correlate to the city's wind speed in the southern hemisphere. (Similar to the previous northern hemisphere graph of latitude versus wind speed)."
   ]
  }
 ],
 "metadata": {
  "anaconda-cloud": {},
  "kernel_info": {
   "name": "python3"
  },
  "kernelspec": {
   "display_name": "Python [conda env:PythonData] *",
   "language": "python",
   "name": "conda-env-PythonData-py"
  },
  "language_info": {
   "codemirror_mode": {
    "name": "ipython",
    "version": 3
   },
   "file_extension": ".py",
   "mimetype": "text/x-python",
   "name": "python",
   "nbconvert_exporter": "python",
   "pygments_lexer": "ipython3",
   "version": "3.6.10"
  },
  "latex_envs": {
   "LaTeX_envs_menu_present": true,
   "autoclose": false,
   "autocomplete": true,
   "bibliofile": "biblio.bib",
   "cite_by": "apalike",
   "current_citInitial": 1,
   "eqLabelWithNumbers": true,
   "eqNumInitial": 1,
   "hotkeys": {
    "equation": "Ctrl-E",
    "itemize": "Ctrl-I"
   },
   "labels_anchors": false,
   "latex_user_defs": false,
   "report_style_numbering": false,
   "user_envs_cfg": false
  },
  "nteract": {
   "version": "0.12.3"
  }
 },
 "nbformat": 4,
 "nbformat_minor": 2
}
