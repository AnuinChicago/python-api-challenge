{
 "cells": [
  {
   "cell_type": "markdown",
   "metadata": {},
   "source": [
    "# WeatherPy\n",
    "----"
   ]
  },
  {
   "cell_type": "markdown",
   "metadata": {},
   "source": [
    "#### General Observable Trends\n",
    "\n",
    "There are several observable trends when looking at a randomly selected group of over 500 cities worldwide and comparing their weather conditions. We can draw multiple conclusions on how the weather changes in cities as we approach the equator. \n",
    "\n",
    "The first observable trend is shown in the first scatterplot of city latitude versus maximum temperature of each city. From the pattern of the graph, it appears several cities located close to the equator have higher maximum temperatures than cities located further away from the equator. \n",
    "\n",
    "A similar trend can be observed when looking at the linear regression graph, for the northern hemisphere of city latitude versus maximum temperature of each city. The trend of the graph, and the correlation coefficient, indicate there’s a strong negative correlation between the two variables, meaning the further north of the equator the city is, the lower the maximum temperature is in the northern hemisphere. In the linear regression graph for the southern hemisphere of city latitude versus maximum temperature of each city, the trend of the graph and the correlation coefficient indicate there is a strong positive correlation between the two variables. This means the closer a city is located to the equator, the higher the maximum temperature is in the southern hemisphere. Overall, we can conclude that the closer a city is to the equator the warmer the temperature is.\n",
    "\n",
    "In regards to city location (latitude) and the percentage of humidity in each city, it’s clear there is no correlation between the two variables. This is clear in the scatterplot, both linear regression graphs, and both correlation coefficients for the northern and southern hemispheres. It's safe to say the latitude of a city does not necessarily correlate to the city's humidity. \n",
    "\n",
    "In regards to city location (latitude) and the percentage of cloudiness in each city, it’s clear there is no correlation between the two variables. This is clear in the scatterplot, both linear regression graphs, and both correlation coefficients for the northern and southern hemispheres. It's safe to say the latitude of a city does not necessarily correlate to the city's cloudiness. \n",
    "\n",
    "In regards to city location (latitude) and the wind speed in each city, it’s clear there is no correlation between the two variables. This is clear in the scatterplot, both linear regression graphs, and both correlation coefficients for the northern and southern hemispheres. It's safe to say the latitude of a city does not necessarily correlate to the city's wind speed. "
   ]
  },
  {
   "cell_type": "markdown",
   "metadata": {},
   "source": [
    "## Dependencies and Setup"
   ]
  },
  {
   "cell_type": "code",
   "execution_count": 26,
   "metadata": {
    "scrolled": true
   },
   "outputs": [],
   "source": [
    "import matplotlib.pyplot as plt\n",
    "import pandas as pd\n",
    "import numpy as np\n",
    "import requests\n",
    "import time\n",
    "from scipy.stats import linregress\n",
    "from pprint import pprint\n",
    "\n",
    "#Import API key\n",
    "from api_keys import weather_api_key\n",
    "\n",
    "#Incorporated citipy to determine city based on latitude and longitude\n",
    "from citipy import citipy\n",
    "\n",
    "#Output File (CSV)\n",
    "output_data_file = \"output_data/cities.csv\"\n",
    "\n",
    "#Range of latitudes and longitudes\n",
    "lat_range = (-90, 90)\n",
    "lng_range = (-180, 180)"
   ]
  },
  {
   "cell_type": "markdown",
   "metadata": {},
   "source": [
    "## Generate Cities List"
   ]
  },
  {
   "cell_type": "code",
   "execution_count": 27,
   "metadata": {},
   "outputs": [
    {
     "data": {
      "text/plain": [
       "611"
      ]
     },
     "execution_count": 27,
     "metadata": {},
     "output_type": "execute_result"
    }
   ],
   "source": [
    "#List for holding lat_lngs and cities\n",
    "lat_lngs = []\n",
    "cities = []\n",
    "\n",
    "#Create a set of random lat and lng combinations\n",
    "lats = np.random.uniform(lat_range[0], lat_range[1], size=1500) \n",
    "lngs = np.random.uniform(lng_range[0], lng_range[1], size=1500)\n",
    "lat_lngs = zip(lats, lngs)\n",
    "\n",
    "#Identify nearest city for each lat, lng combination\n",
    "for lat_lng in lat_lngs:\n",
    "    city = citipy.nearest_city(lat_lng[0], lat_lng[1]).city_name\n",
    "    \n",
    "    #If the city is unique, then add it to a our cities list\n",
    "    if city not in cities:\n",
    "        cities.append(city)\n",
    "\n",
    "#Print the city count to confirm sufficient count\n",
    "len(cities)"
   ]
  },
  {
   "cell_type": "markdown",
   "metadata": {},
   "source": [
    "### Perform API Calls\n",
    "* Perform a weather check on each city using a series of successive API calls.\n",
    "* Include a print log of each city as it's being processed (with the city number and city name).\n"
   ]
  },
  {
   "cell_type": "code",
   "execution_count": 28,
   "metadata": {
    "scrolled": true
   },
   "outputs": [
    {
     "name": "stdout",
     "output_type": "stream",
     "text": [
      "Processing Record 1 of Set 1 | punta arenas\n",
      "Processing Record 2 of Set 1 | jauja\n",
      "Processing Record 3 of Set 1 | gilgit\n",
      "Processing Record 4 of Set 1 | amderma\n",
      "City, amderma, not found. Skipping...\n",
      "Processing Record 5 of Set 1 | cayenne\n",
      "Processing Record 6 of Set 1 | yaan\n",
      "Processing Record 7 of Set 1 | longyearbyen\n",
      "Processing Record 8 of Set 1 | aklavik\n",
      "Processing Record 9 of Set 1 | port alfred\n",
      "Processing Record 10 of Set 1 | tsihombe\n",
      "City, tsihombe, not found. Skipping...\n",
      "Processing Record 11 of Set 1 | kieta\n",
      "Processing Record 12 of Set 1 | kavieng\n",
      "Processing Record 13 of Set 1 | boddam\n",
      "Processing Record 14 of Set 1 | najran\n",
      "Processing Record 15 of Set 1 | bosaso\n",
      "Processing Record 16 of Set 1 | busselton\n",
      "Processing Record 17 of Set 1 | tasiilaq\n",
      "Processing Record 18 of Set 1 | taolanaro\n",
      "City, taolanaro, not found. Skipping...\n",
      "Processing Record 19 of Set 1 | saleaula\n",
      "City, saleaula, not found. Skipping...\n",
      "Processing Record 20 of Set 1 | east london\n",
      "Processing Record 21 of Set 1 | new norfolk\n",
      "Processing Record 22 of Set 1 | vardo\n",
      "Processing Record 23 of Set 1 | vaini\n",
      "Processing Record 24 of Set 1 | sibolga\n",
      "Processing Record 25 of Set 1 | kapaa\n",
      "Processing Record 26 of Set 1 | da nang\n",
      "Processing Record 27 of Set 1 | kitale\n",
      "Processing Record 28 of Set 1 | parrita\n",
      "Processing Record 29 of Set 1 | barrow\n",
      "Processing Record 30 of Set 1 | emerald\n",
      "Processing Record 31 of Set 1 | miandrivazo\n",
      "Processing Record 32 of Set 1 | antofagasta\n",
      "Processing Record 33 of Set 1 | wanning\n",
      "Processing Record 34 of Set 1 | rikitea\n",
      "Processing Record 35 of Set 1 | mataura\n",
      "Processing Record 36 of Set 1 | bowen\n",
      "Processing Record 37 of Set 1 | saldanha\n",
      "Processing Record 38 of Set 1 | manuk mangkaw\n",
      "Processing Record 39 of Set 1 | bluff\n",
      "Processing Record 40 of Set 1 | albany\n",
      "Processing Record 41 of Set 1 | dikson\n",
      "Processing Record 42 of Set 1 | ushuaia\n",
      "Processing Record 43 of Set 1 | jamestown\n",
      "Processing Record 44 of Set 1 | castro\n",
      "Processing Record 45 of Set 1 | kaitangata\n",
      "Processing Record 46 of Set 1 | leh\n",
      "Processing Record 47 of Set 1 | tiksi\n",
      "Processing Record 48 of Set 1 | palmas bellas\n",
      "Processing Record 49 of Set 1 | bubaque\n",
      "Processing Record 50 of Set 1 | mao\n",
      "Processing Record 1 of Set 2 | yomitan\n",
      "City, yomitan, not found. Skipping...\n",
      "Processing Record 2 of Set 2 | namatanai\n",
      "Processing Record 3 of Set 2 | xining\n",
      "Processing Record 4 of Set 2 | barentsburg\n",
      "City, barentsburg, not found. Skipping...\n",
      "Processing Record 5 of Set 2 | mys shmidta\n",
      "City, mys shmidta, not found. Skipping...\n",
      "Processing Record 6 of Set 2 | gzhatsk\n",
      "City, gzhatsk, not found. Skipping...\n",
      "Processing Record 7 of Set 2 | ilulissat\n",
      "Processing Record 8 of Set 2 | jumla\n",
      "Processing Record 9 of Set 2 | komsomolets\n",
      "Processing Record 10 of Set 2 | wasilla\n",
      "Processing Record 11 of Set 2 | iqaluit\n",
      "Processing Record 12 of Set 2 | faanui\n",
      "Processing Record 13 of Set 2 | shahreza\n",
      "Processing Record 14 of Set 2 | sinop\n",
      "Processing Record 15 of Set 2 | ekibastuz\n",
      "Processing Record 16 of Set 2 | atuona\n",
      "Processing Record 17 of Set 2 | qaanaaq\n",
      "Processing Record 18 of Set 2 | bredasdorp\n",
      "Processing Record 19 of Set 2 | mayo\n",
      "Processing Record 20 of Set 2 | cape town\n",
      "Processing Record 21 of Set 2 | norman wells\n",
      "Processing Record 22 of Set 2 | lebu\n",
      "Processing Record 23 of Set 2 | saint-georges\n",
      "Processing Record 24 of Set 2 | roald\n",
      "Processing Record 25 of Set 2 | belaya gora\n",
      "Processing Record 26 of Set 2 | manakara\n",
      "Processing Record 27 of Set 2 | marshall\n",
      "Processing Record 28 of Set 2 | miles city\n",
      "Processing Record 29 of Set 2 | hermanus\n",
      "Processing Record 30 of Set 2 | komsomolskiy\n",
      "Processing Record 31 of Set 2 | bengkulu\n",
      "Processing Record 32 of Set 2 | marcona\n",
      "City, marcona, not found. Skipping...\n",
      "Processing Record 33 of Set 2 | carnarvon\n",
      "Processing Record 34 of Set 2 | narsaq\n",
      "Processing Record 35 of Set 2 | ponta do sol\n",
      "Processing Record 36 of Set 2 | saint-philippe\n",
      "Processing Record 37 of Set 2 | ricaurte\n",
      "Processing Record 38 of Set 2 | niamey\n",
      "Processing Record 39 of Set 2 | podbrdo\n",
      "Processing Record 40 of Set 2 | honiara\n",
      "Processing Record 41 of Set 2 | arraial do cabo\n",
      "Processing Record 42 of Set 2 | severo-kurilsk\n",
      "Processing Record 43 of Set 2 | ratnagiri\n",
      "Processing Record 44 of Set 2 | cumaribo\n",
      "City, cumaribo, not found. Skipping...\n",
      "Processing Record 45 of Set 2 | juybar\n",
      "Processing Record 46 of Set 2 | kuryk\n",
      "Processing Record 47 of Set 2 | hobart\n",
      "Processing Record 48 of Set 2 | flinders\n",
      "Processing Record 49 of Set 2 | montfoort\n",
      "Processing Record 50 of Set 2 | valparaiso\n",
      "Processing Record 1 of Set 3 | itaueira\n",
      "Processing Record 2 of Set 3 | the valley\n",
      "Processing Record 3 of Set 3 | saint-augustin\n",
      "Processing Record 4 of Set 3 | chokurdakh\n",
      "Processing Record 5 of Set 3 | yellowknife\n",
      "Processing Record 6 of Set 3 | taoudenni\n",
      "Processing Record 7 of Set 3 | akhmeta\n",
      "Processing Record 8 of Set 3 | mar del plata\n",
      "Processing Record 9 of Set 3 | caravelas\n",
      "Processing Record 10 of Set 3 | port-gentil\n",
      "Processing Record 11 of Set 3 | lodeynoye pole\n",
      "Processing Record 12 of Set 3 | comodoro rivadavia\n",
      "Processing Record 13 of Set 3 | nikolskoye\n",
      "Processing Record 14 of Set 3 | khatanga\n",
      "Processing Record 15 of Set 3 | thompson\n",
      "Processing Record 16 of Set 3 | chalus\n",
      "Processing Record 17 of Set 3 | mimarsinan\n",
      "Processing Record 18 of Set 3 | muros\n",
      "Processing Record 19 of Set 3 | andenes\n",
      "Processing Record 20 of Set 3 | angarsk\n",
      "Processing Record 21 of Set 3 | wladyslawowo\n",
      "Processing Record 22 of Set 3 | paragould\n",
      "Processing Record 23 of Set 3 | tabiauea\n",
      "City, tabiauea, not found. Skipping...\n",
      "Processing Record 24 of Set 3 | maniitsoq\n",
      "Processing Record 25 of Set 3 | burica\n",
      "City, burica, not found. Skipping...\n",
      "Processing Record 26 of Set 3 | westport\n",
      "Processing Record 27 of Set 3 | yefimovskiy\n",
      "City, yefimovskiy, not found. Skipping...\n",
      "Processing Record 28 of Set 3 | parainen\n",
      "Processing Record 29 of Set 3 | padang\n",
      "Processing Record 30 of Set 3 | santa isabel do rio negro\n",
      "Processing Record 31 of Set 3 | touros\n",
      "Processing Record 32 of Set 3 | avarua\n",
      "Processing Record 33 of Set 3 | ust-kamchatsk\n",
      "City, ust-kamchatsk, not found. Skipping...\n",
      "Processing Record 34 of Set 3 | neiafu\n",
      "Processing Record 35 of Set 3 | bandarbeyla\n",
      "Processing Record 36 of Set 3 | petropavlovsk-kamchatskiy\n",
      "Processing Record 37 of Set 3 | lorengau\n",
      "Processing Record 38 of Set 3 | palabuhanratu\n",
      "City, palabuhanratu, not found. Skipping...\n",
      "Processing Record 39 of Set 3 | epe\n",
      "Processing Record 40 of Set 3 | san juan\n",
      "Processing Record 41 of Set 3 | nanortalik\n",
      "Processing Record 42 of Set 3 | mount isa\n",
      "Processing Record 43 of Set 3 | ypsonas\n",
      "Processing Record 44 of Set 3 | marzuq\n",
      "Processing Record 45 of Set 3 | werda\n",
      "Processing Record 46 of Set 3 | tura\n",
      "Processing Record 47 of Set 3 | pacific grove\n",
      "Processing Record 48 of Set 3 | sorland\n",
      "Processing Record 49 of Set 3 | vaitupu\n",
      "City, vaitupu, not found. Skipping...\n",
      "Processing Record 50 of Set 3 | kulhudhuffushi\n",
      "Processing Record 1 of Set 4 | aykhal\n",
      "Processing Record 2 of Set 4 | namibe\n",
      "Processing Record 3 of Set 4 | siderno\n",
      "Processing Record 4 of Set 4 | puerto ayora\n",
      "Processing Record 5 of Set 4 | inhambane\n",
      "Processing Record 6 of Set 4 | changqing\n",
      "Processing Record 7 of Set 4 | asau\n",
      "Processing Record 8 of Set 4 | puerto leguizamo\n",
      "Processing Record 9 of Set 4 | pevek\n",
      "Processing Record 10 of Set 4 | cocachacra\n",
      "Processing Record 11 of Set 4 | buraydah\n",
      "Processing Record 12 of Set 4 | harper\n",
      "Processing Record 13 of Set 4 | sambava\n",
      "Processing Record 14 of Set 4 | sioux lookout\n",
      "Processing Record 15 of Set 4 | mehamn\n",
      "Processing Record 16 of Set 4 | bambous virieux\n",
      "Processing Record 17 of Set 4 | ust-nera\n",
      "Processing Record 18 of Set 4 | clyde river\n",
      "Processing Record 19 of Set 4 | country club\n",
      "Processing Record 20 of Set 4 | bemidji\n",
      "Processing Record 21 of Set 4 | mlowo\n",
      "Processing Record 22 of Set 4 | mangrol\n",
      "Processing Record 23 of Set 4 | plettenberg bay\n",
      "Processing Record 24 of Set 4 | marsabit\n",
      "Processing Record 25 of Set 4 | teya\n",
      "Processing Record 26 of Set 4 | kirakira\n",
      "Processing Record 27 of Set 4 | sur\n",
      "Processing Record 28 of Set 4 | esperance\n",
      "Processing Record 29 of Set 4 | yar-sale\n",
      "Processing Record 30 of Set 4 | chaa-khol\n",
      "City, chaa-khol, not found. Skipping...\n",
      "Processing Record 31 of Set 4 | ketchikan\n",
      "Processing Record 32 of Set 4 | kashi\n",
      "Processing Record 33 of Set 4 | guymon\n"
     ]
    },
    {
     "name": "stdout",
     "output_type": "stream",
     "text": [
      "Processing Record 34 of Set 4 | fort walton beach\n",
      "Processing Record 35 of Set 4 | algiers\n",
      "Processing Record 36 of Set 4 | saskylakh\n",
      "Processing Record 37 of Set 4 | mishkino\n",
      "Processing Record 38 of Set 4 | kutum\n",
      "Processing Record 39 of Set 4 | hirara\n",
      "Processing Record 40 of Set 4 | klaksvik\n",
      "Processing Record 41 of Set 4 | quatre cocos\n",
      "Processing Record 42 of Set 4 | hohhot\n",
      "Processing Record 43 of Set 4 | zapolyarnyy\n",
      "Processing Record 44 of Set 4 | sakyla\n",
      "Processing Record 45 of Set 4 | caucaia\n",
      "Processing Record 46 of Set 4 | umzimvubu\n",
      "City, umzimvubu, not found. Skipping...\n",
      "Processing Record 47 of Set 4 | srednekolymsk\n",
      "Processing Record 48 of Set 4 | georgetown\n",
      "Processing Record 49 of Set 4 | mareeba\n",
      "Processing Record 50 of Set 4 | artvin\n",
      "Processing Record 1 of Set 5 | illoqqortoormiut\n",
      "City, illoqqortoormiut, not found. Skipping...\n",
      "Processing Record 2 of Set 5 | nizhneyansk\n",
      "City, nizhneyansk, not found. Skipping...\n",
      "Processing Record 3 of Set 5 | vernon\n",
      "Processing Record 4 of Set 5 | boyolangu\n",
      "Processing Record 5 of Set 5 | vostok\n",
      "Processing Record 6 of Set 5 | chara\n",
      "Processing Record 7 of Set 5 | hilo\n",
      "Processing Record 8 of Set 5 | albury\n",
      "Processing Record 9 of Set 5 | machali\n",
      "Processing Record 10 of Set 5 | nokaneng\n",
      "Processing Record 11 of Set 5 | ahipara\n",
      "Processing Record 12 of Set 5 | san andres\n",
      "Processing Record 13 of Set 5 | chuy\n",
      "Processing Record 14 of Set 5 | tual\n",
      "Processing Record 15 of Set 5 | luderitz\n",
      "Processing Record 16 of Set 5 | inderborskiy\n",
      "City, inderborskiy, not found. Skipping...\n",
      "Processing Record 17 of Set 5 | general roca\n",
      "Processing Record 18 of Set 5 | kodiak\n",
      "Processing Record 19 of Set 5 | colan\n",
      "Processing Record 20 of Set 5 | vanino\n",
      "Processing Record 21 of Set 5 | xiantao\n",
      "Processing Record 22 of Set 5 | potenza\n",
      "Processing Record 23 of Set 5 | nerchinskiy zavod\n",
      "Processing Record 24 of Set 5 | invermere\n",
      "Processing Record 25 of Set 5 | tanjong karang\n",
      "City, tanjong karang, not found. Skipping...\n",
      "Processing Record 26 of Set 5 | abu samrah\n",
      "Processing Record 27 of Set 5 | renqiu\n",
      "Processing Record 28 of Set 5 | tuktoyaktuk\n",
      "Processing Record 29 of Set 5 | malakal\n",
      "Processing Record 30 of Set 5 | la romana\n",
      "Processing Record 31 of Set 5 | ambulu\n",
      "Processing Record 32 of Set 5 | ndende\n",
      "Processing Record 33 of Set 5 | kanniyakumari\n",
      "Processing Record 34 of Set 5 | mutsu\n",
      "Processing Record 35 of Set 5 | krasnoselkup\n",
      "Processing Record 36 of Set 5 | newport\n",
      "Processing Record 37 of Set 5 | morehead\n",
      "Processing Record 38 of Set 5 | ust-kan\n",
      "Processing Record 39 of Set 5 | meyungs\n",
      "City, meyungs, not found. Skipping...\n",
      "Processing Record 40 of Set 5 | indianola\n",
      "Processing Record 41 of Set 5 | beloha\n",
      "Processing Record 42 of Set 5 | katsuura\n",
      "Processing Record 43 of Set 5 | abnub\n",
      "Processing Record 44 of Set 5 | iwanai\n",
      "Processing Record 45 of Set 5 | hamilton\n",
      "Processing Record 46 of Set 5 | turtas\n",
      "Processing Record 47 of Set 5 | port lincoln\n",
      "Processing Record 48 of Set 5 | morrope\n",
      "Processing Record 49 of Set 5 | mustafabad\n",
      "Processing Record 50 of Set 5 | liuzhou\n",
      "Processing Record 1 of Set 6 | cabo san lucas\n",
      "Processing Record 2 of Set 6 | lasa\n",
      "Processing Record 3 of Set 6 | lianzhou\n",
      "Processing Record 4 of Set 6 | butaritari\n",
      "Processing Record 5 of Set 6 | port elizabeth\n",
      "Processing Record 6 of Set 6 | gwadar\n",
      "Processing Record 7 of Set 6 | henties bay\n",
      "Processing Record 8 of Set 6 | victoria\n",
      "Processing Record 9 of Set 6 | sao jose da coroa grande\n",
      "Processing Record 10 of Set 6 | krasnoarmeysk\n",
      "Processing Record 11 of Set 6 | eldoret\n",
      "Processing Record 12 of Set 6 | great falls\n",
      "Processing Record 13 of Set 6 | zhuhai\n",
      "Processing Record 14 of Set 6 | ijaki\n",
      "City, ijaki, not found. Skipping...\n",
      "Processing Record 15 of Set 6 | natal\n",
      "Processing Record 16 of Set 6 | pisco\n",
      "Processing Record 17 of Set 6 | concepcion del oro\n",
      "Processing Record 18 of Set 6 | olga\n",
      "Processing Record 19 of Set 6 | dongsheng\n",
      "Processing Record 20 of Set 6 | laguna\n",
      "Processing Record 21 of Set 6 | coquimbo\n",
      "Processing Record 22 of Set 6 | teahupoo\n",
      "Processing Record 23 of Set 6 | mecca\n",
      "Processing Record 24 of Set 6 | necochea\n",
      "Processing Record 25 of Set 6 | preobrazheniye\n",
      "Processing Record 26 of Set 6 | gouyave\n",
      "Processing Record 27 of Set 6 | belushya guba\n",
      "City, belushya guba, not found. Skipping...\n",
      "Processing Record 28 of Set 6 | hwange\n",
      "Processing Record 29 of Set 6 | nurlat\n",
      "Processing Record 30 of Set 6 | samfya\n",
      "Processing Record 31 of Set 6 | novyy buh\n",
      "Processing Record 32 of Set 6 | malindi\n",
      "Processing Record 33 of Set 6 | high level\n",
      "Processing Record 34 of Set 6 | yerbogachen\n",
      "Processing Record 35 of Set 6 | elizabeth city\n",
      "Processing Record 36 of Set 6 | maceio\n",
      "Processing Record 37 of Set 6 | bethel\n",
      "Processing Record 38 of Set 6 | kidal\n",
      "Processing Record 39 of Set 6 | taltal\n",
      "Processing Record 40 of Set 6 | sao joao da barra\n",
      "Processing Record 41 of Set 6 | tifton\n",
      "Processing Record 42 of Set 6 | myitkyina\n",
      "Processing Record 43 of Set 6 | attawapiskat\n",
      "City, attawapiskat, not found. Skipping...\n",
      "Processing Record 44 of Set 6 | ambilobe\n",
      "Processing Record 45 of Set 6 | madang\n",
      "Processing Record 46 of Set 6 | virginia beach\n",
      "Processing Record 47 of Set 6 | bahia blanca\n",
      "Processing Record 48 of Set 6 | shu\n",
      "Processing Record 49 of Set 6 | mentok\n",
      "City, mentok, not found. Skipping...\n",
      "Processing Record 50 of Set 6 | plymouth\n",
      "Processing Record 1 of Set 7 | garowe\n",
      "Processing Record 2 of Set 7 | husavik\n",
      "Processing Record 3 of Set 7 | lysychovo\n",
      "Processing Record 4 of Set 7 | hasaki\n",
      "Processing Record 5 of Set 7 | batetskiy\n",
      "Processing Record 6 of Set 7 | lavrentiya\n",
      "Processing Record 7 of Set 7 | sao filipe\n",
      "Processing Record 8 of Set 7 | vyartsilya\n",
      "Processing Record 9 of Set 7 | severo-yeniseyskiy\n",
      "Processing Record 10 of Set 7 | lata\n",
      "Processing Record 11 of Set 7 | saint george\n",
      "Processing Record 12 of Set 7 | batagay-alyta\n",
      "Processing Record 13 of Set 7 | ostrovnoy\n",
      "Processing Record 14 of Set 7 | podgorica\n",
      "Processing Record 15 of Set 7 | cairns\n",
      "Processing Record 16 of Set 7 | paita\n",
      "Processing Record 17 of Set 7 | samusu\n",
      "City, samusu, not found. Skipping...\n",
      "Processing Record 18 of Set 7 | popondetta\n",
      "Processing Record 19 of Set 7 | matara\n",
      "Processing Record 20 of Set 7 | bonavista\n",
      "Processing Record 21 of Set 7 | san patricio\n",
      "Processing Record 22 of Set 7 | vila velha\n",
      "Processing Record 23 of Set 7 | fevralsk\n",
      "City, fevralsk, not found. Skipping...\n",
      "Processing Record 24 of Set 7 | kavaratti\n",
      "Processing Record 25 of Set 7 | shihezi\n",
      "Processing Record 26 of Set 7 | karratha\n",
      "Processing Record 27 of Set 7 | zemio\n",
      "Processing Record 28 of Set 7 | kathu\n",
      "Processing Record 29 of Set 7 | manono\n",
      "Processing Record 30 of Set 7 | soligalich\n",
      "Processing Record 31 of Set 7 | ribeira grande\n",
      "Processing Record 32 of Set 7 | pena blanca\n",
      "Processing Record 33 of Set 7 | parry sound\n",
      "Processing Record 34 of Set 7 | itarema\n",
      "Processing Record 35 of Set 7 | port hedland\n",
      "Processing Record 36 of Set 7 | lompoc\n",
      "Processing Record 37 of Set 7 | horta\n",
      "Processing Record 38 of Set 7 | morant bay\n",
      "Processing Record 39 of Set 7 | chemal\n",
      "Processing Record 40 of Set 7 | hithadhoo\n",
      "Processing Record 41 of Set 7 | ammon\n",
      "Processing Record 42 of Set 7 | santa maria del oro\n",
      "Processing Record 43 of Set 7 | sisimiut\n",
      "Processing Record 44 of Set 7 | alofi\n",
      "Processing Record 45 of Set 7 | vryburg\n",
      "Processing Record 46 of Set 7 | san cristobal\n",
      "Processing Record 47 of Set 7 | falealupo\n",
      "City, falealupo, not found. Skipping...\n",
      "Processing Record 48 of Set 7 | masalli\n",
      "Processing Record 49 of Set 7 | amguri\n",
      "Processing Record 50 of Set 7 | jiquipilas\n",
      "Processing Record 1 of Set 8 | rocha\n",
      "Processing Record 2 of Set 8 | kruisfontein\n",
      "Processing Record 3 of Set 8 | san vicente\n",
      "Processing Record 4 of Set 8 | canico\n",
      "Processing Record 5 of Set 8 | tilichiki\n",
      "Processing Record 6 of Set 8 | sandwick\n",
      "Processing Record 7 of Set 8 | airai\n",
      "Processing Record 8 of Set 8 | grdelica\n",
      "Processing Record 9 of Set 8 | tevaitoa\n",
      "Processing Record 10 of Set 8 | portland\n",
      "Processing Record 11 of Set 8 | koutiala\n",
      "Processing Record 12 of Set 8 | oranjemund\n",
      "Processing Record 13 of Set 8 | vitim\n",
      "Processing Record 14 of Set 8 | bitung\n",
      "Processing Record 15 of Set 8 | carahue\n",
      "Processing Record 16 of Set 8 | souillac\n",
      "Processing Record 17 of Set 8 | buenavista\n",
      "Processing Record 18 of Set 8 | mahon\n",
      "Processing Record 19 of Set 8 | port augusta\n"
     ]
    },
    {
     "name": "stdout",
     "output_type": "stream",
     "text": [
      "Processing Record 20 of Set 8 | sentyabrskiy\n",
      "City, sentyabrskiy, not found. Skipping...\n",
      "Processing Record 21 of Set 8 | novikovo\n",
      "Processing Record 22 of Set 8 | tuatapere\n",
      "Processing Record 23 of Set 8 | yulara\n",
      "Processing Record 24 of Set 8 | ayer itam\n",
      "City, ayer itam, not found. Skipping...\n",
      "Processing Record 25 of Set 8 | cururupu\n",
      "Processing Record 26 of Set 8 | smithers\n",
      "Processing Record 27 of Set 8 | masunga\n",
      "Processing Record 28 of Set 8 | mogadishu\n",
      "Processing Record 29 of Set 8 | sabha\n",
      "Processing Record 30 of Set 8 | taree\n",
      "Processing Record 31 of Set 8 | te anau\n",
      "Processing Record 32 of Set 8 | nishihara\n",
      "Processing Record 33 of Set 8 | ostersund\n",
      "Processing Record 34 of Set 8 | mahebourg\n",
      "Processing Record 35 of Set 8 | huilong\n",
      "Processing Record 36 of Set 8 | barra\n",
      "Processing Record 37 of Set 8 | yuncheng\n",
      "Processing Record 38 of Set 8 | toamasina\n",
      "Processing Record 39 of Set 8 | charters towers\n",
      "Processing Record 40 of Set 8 | tumannyy\n",
      "City, tumannyy, not found. Skipping...\n",
      "Processing Record 41 of Set 8 | mount vernon\n",
      "Processing Record 42 of Set 8 | torbay\n",
      "Processing Record 43 of Set 8 | sao miguel\n",
      "Processing Record 44 of Set 8 | halalo\n",
      "City, halalo, not found. Skipping...\n",
      "Processing Record 45 of Set 8 | tazmalt\n",
      "Processing Record 46 of Set 8 | uvarovo\n",
      "Processing Record 47 of Set 8 | galgani\n",
      "City, galgani, not found. Skipping...\n",
      "Processing Record 48 of Set 8 | benalla\n",
      "Processing Record 49 of Set 8 | naryan-mar\n",
      "Processing Record 50 of Set 8 | vilhena\n",
      "Processing Record 1 of Set 9 | port blair\n",
      "Processing Record 2 of Set 9 | mozarlandia\n",
      "Processing Record 3 of Set 9 | kindu\n",
      "Processing Record 4 of Set 9 | college\n",
      "Processing Record 5 of Set 9 | dwarka\n",
      "Processing Record 6 of Set 9 | nome\n",
      "Processing Record 7 of Set 9 | tocopilla\n",
      "Processing Record 8 of Set 9 | kudat\n",
      "Processing Record 9 of Set 9 | marfino\n",
      "Processing Record 10 of Set 9 | zharkent\n",
      "Processing Record 11 of Set 9 | deputatskiy\n",
      "Processing Record 12 of Set 9 | agirish\n",
      "Processing Record 13 of Set 9 | christchurch\n",
      "Processing Record 14 of Set 9 | bilma\n",
      "Processing Record 15 of Set 9 | nelson bay\n",
      "Processing Record 16 of Set 9 | kamenskoye\n",
      "City, kamenskoye, not found. Skipping...\n",
      "Processing Record 17 of Set 9 | severnyy\n",
      "Processing Record 18 of Set 9 | cidreira\n",
      "Processing Record 19 of Set 9 | sedelnikovo\n",
      "City, sedelnikovo, not found. Skipping...\n",
      "Processing Record 20 of Set 9 | kalmar\n",
      "Processing Record 21 of Set 9 | ust-omchug\n",
      "Processing Record 22 of Set 9 | provideniya\n",
      "Processing Record 23 of Set 9 | coihaique\n",
      "Processing Record 24 of Set 9 | ixtapa\n",
      "Processing Record 25 of Set 9 | jutai\n",
      "Processing Record 26 of Set 9 | beringovskiy\n",
      "Processing Record 27 of Set 9 | bilibino\n",
      "Processing Record 28 of Set 9 | nizhniy kuranakh\n",
      "Processing Record 29 of Set 9 | vancouver\n",
      "Processing Record 30 of Set 9 | urumqi\n",
      "Processing Record 31 of Set 9 | kalety\n",
      "Processing Record 32 of Set 9 | steinen\n",
      "Processing Record 33 of Set 9 | khani\n",
      "Processing Record 34 of Set 9 | santa lucia\n",
      "Processing Record 35 of Set 9 | jalu\n",
      "Processing Record 36 of Set 9 | carballo\n",
      "Processing Record 37 of Set 9 | upernavik\n",
      "Processing Record 38 of Set 9 | santa cruz\n",
      "Processing Record 39 of Set 9 | cochabamba\n",
      "Processing Record 40 of Set 9 | fortuna\n",
      "Processing Record 41 of Set 9 | divnomorskoye\n",
      "Processing Record 42 of Set 9 | joshimath\n",
      "Processing Record 43 of Set 9 | lazaro cardenas\n",
      "Processing Record 44 of Set 9 | acapulco\n",
      "Processing Record 45 of Set 9 | javanrud\n",
      "Processing Record 46 of Set 9 | zabid\n",
      "Processing Record 47 of Set 9 | miranda\n",
      "Processing Record 48 of Set 9 | libertador general san martin\n",
      "Processing Record 49 of Set 9 | glenwood springs\n",
      "Processing Record 50 of Set 9 | adrar\n",
      "Processing Record 1 of Set 10 | mahajanga\n",
      "Processing Record 2 of Set 10 | nouadhibou\n",
      "Processing Record 3 of Set 10 | tuy hoa\n",
      "Processing Record 4 of Set 10 | palu\n",
      "Processing Record 5 of Set 10 | high rock\n",
      "Processing Record 6 of Set 10 | qaqortoq\n",
      "Processing Record 7 of Set 10 | constitucion\n",
      "Processing Record 8 of Set 10 | barbar\n",
      "City, barbar, not found. Skipping...\n",
      "Processing Record 9 of Set 10 | itoman\n",
      "Processing Record 10 of Set 10 | lolua\n",
      "City, lolua, not found. Skipping...\n",
      "Processing Record 11 of Set 10 | balkanabat\n",
      "Processing Record 12 of Set 10 | rodrigues alves\n",
      "Processing Record 13 of Set 10 | bonthe\n",
      "Processing Record 14 of Set 10 | vao\n",
      "Processing Record 15 of Set 10 | odweyne\n",
      "Processing Record 16 of Set 10 | kurilsk\n",
      "Processing Record 17 of Set 10 | datong\n",
      "Processing Record 18 of Set 10 | merauke\n",
      "Processing Record 19 of Set 10 | amot\n",
      "Processing Record 20 of Set 10 | filingue\n",
      "Processing Record 21 of Set 10 | alihe\n",
      "Processing Record 22 of Set 10 | nantucket\n",
      "Processing Record 23 of Set 10 | ntoum\n",
      "Processing Record 24 of Set 10 | bom despacho\n",
      "Processing Record 25 of Set 10 | rio gallegos\n",
      "Processing Record 26 of Set 10 | vila\n",
      "Processing Record 27 of Set 10 | tabou\n",
      "Processing Record 28 of Set 10 | vydrino\n",
      "Processing Record 29 of Set 10 | bathsheba\n",
      "Processing Record 30 of Set 10 | acucena\n",
      "Processing Record 31 of Set 10 | rocky mountain house\n",
      "Processing Record 32 of Set 10 | eureka\n",
      "Processing Record 33 of Set 10 | bull savanna\n",
      "Processing Record 34 of Set 10 | berlevag\n",
      "Processing Record 35 of Set 10 | kibre mengist\n",
      "Processing Record 36 of Set 10 | acurenam\n",
      "Processing Record 37 of Set 10 | umm kaddadah\n",
      "Processing Record 38 of Set 10 | imbituba\n",
      "Processing Record 39 of Set 10 | bayshore gardens\n",
      "Processing Record 40 of Set 10 | qasigiannguit\n",
      "Processing Record 41 of Set 10 | paramonga\n",
      "Processing Record 42 of Set 10 | beyneu\n",
      "Processing Record 43 of Set 10 | ouesso\n",
      "Processing Record 44 of Set 10 | kuche\n",
      "City, kuche, not found. Skipping...\n",
      "Processing Record 45 of Set 10 | elko\n",
      "Processing Record 46 of Set 10 | geraldton\n",
      "Processing Record 47 of Set 10 | sao simao\n",
      "Processing Record 48 of Set 10 | makakilo city\n",
      "Processing Record 49 of Set 10 | zhigansk\n",
      "Processing Record 50 of Set 10 | arlit\n",
      "Processing Record 1 of Set 11 | zlitan\n",
      "Processing Record 2 of Set 11 | zhezkazgan\n",
      "Processing Record 3 of Set 11 | upington\n",
      "Processing Record 4 of Set 11 | sabang\n",
      "Processing Record 5 of Set 11 | cervo\n",
      "Processing Record 6 of Set 11 | pueblo nuevo\n",
      "Processing Record 7 of Set 11 | brae\n",
      "Processing Record 8 of Set 11 | cherskiy\n",
      "Processing Record 9 of Set 11 | kaduna\n",
      "Processing Record 10 of Set 11 | zuya\n",
      "Processing Record 11 of Set 11 | umea\n",
      "Processing Record 12 of Set 11 | port moresby\n",
      "Processing Record 13 of Set 11 | bac lieu\n",
      "Processing Record 14 of Set 11 | kerman\n",
      "Processing Record 15 of Set 11 | conakry\n",
      "Processing Record 16 of Set 11 | nanning\n",
      "Processing Record 17 of Set 11 | aflu\n",
      "City, aflu, not found. Skipping...\n",
      "Processing Record 18 of Set 11 | moindou\n",
      "Processing Record 19 of Set 11 | camocim\n",
      "Processing Record 20 of Set 11 | mount pleasant\n",
      "Processing Record 21 of Set 11 | avera\n",
      "Processing Record 22 of Set 11 | tiarei\n",
      "Processing Record 23 of Set 11 | chernaya kholunitsa\n",
      "Processing Record 24 of Set 11 | aseri\n",
      "Processing Record 25 of Set 11 | cambridge\n",
      "Processing Record 26 of Set 11 | cerqueira cesar\n",
      "Processing Record 27 of Set 11 | udachnyy\n",
      "Processing Record 28 of Set 11 | urdoma\n",
      "Processing Record 29 of Set 11 | pangody\n",
      "Processing Record 30 of Set 11 | nichinan\n",
      "Processing Record 31 of Set 11 | matagami\n",
      "Processing Record 32 of Set 11 | xuddur\n",
      "Processing Record 33 of Set 11 | inuvik\n",
      "Processing Record 34 of Set 11 | el faiyum\n",
      "City, el faiyum, not found. Skipping...\n",
      "Processing Record 35 of Set 11 | kenitra\n",
      "Processing Record 36 of Set 11 | kamenka\n",
      "Processing Record 37 of Set 11 | karpogory\n",
      "Processing Record 38 of Set 11 | linqiong\n",
      "Processing Record 39 of Set 11 | baruun-urt\n",
      "Processing Record 40 of Set 11 | biak\n",
      "Processing Record 41 of Set 11 | takoradi\n",
      "Processing Record 42 of Set 11 | olinda\n",
      "Processing Record 43 of Set 11 | martapura\n",
      "Processing Record 44 of Set 11 | pyshma\n",
      "Processing Record 45 of Set 11 | nioro\n",
      "Processing Record 46 of Set 11 | lufilufi\n",
      "Processing Record 47 of Set 11 | moberly\n",
      "Processing Record 48 of Set 11 | namwala\n",
      "Processing Record 49 of Set 11 | suntar\n",
      "Processing Record 50 of Set 11 | iquitos\n",
      "Processing Record 1 of Set 12 | veraval\n",
      "Processing Record 2 of Set 12 | gurgan\n",
      "City, gurgan, not found. Skipping...\n",
      "Processing Record 3 of Set 12 | poum\n",
      "Processing Record 4 of Set 12 | qabaqcol\n",
      "Processing Record 5 of Set 12 | erenhot\n"
     ]
    },
    {
     "name": "stdout",
     "output_type": "stream",
     "text": [
      "Processing Record 6 of Set 12 | saint-joseph\n",
      "Processing Record 7 of Set 12 | hambantota\n",
      "Processing Record 8 of Set 12 | penzance\n",
      "Processing Record 9 of Set 12 | aqtobe\n",
      "Processing Record 10 of Set 12 | darhan\n",
      "Processing Record 11 of Set 12 | kaka\n",
      "Processing Record 12 of Set 12 | agua buena\n",
      "Processing Record 13 of Set 12 | vilyuysk\n",
      "Processing Record 14 of Set 12 | pangnirtung\n",
      "Processing Record 15 of Set 12 | bad wildbad\n",
      "Processing Record 16 of Set 12 | meulaboh\n",
      "Processing Record 17 of Set 12 | nakamura\n",
      "Processing Record 18 of Set 12 | gemona\n",
      "Processing Record 19 of Set 12 | oromocto\n",
      "Processing Record 20 of Set 12 | saint-denis\n",
      "Processing Record 21 of Set 12 | powassan\n",
      "Processing Record 22 of Set 12 | lukulu\n",
      "Processing Record 23 of Set 12 | thunder bay\n",
      "Processing Record 24 of Set 12 | nargana\n",
      "Processing Record 25 of Set 12 | zyryanka\n",
      "Processing Record 26 of Set 12 | puerto ayacucho\n",
      "Processing Record 27 of Set 12 | tocache\n",
      "Processing Record 28 of Set 12 | pitimbu\n",
      "Processing Record 29 of Set 12 | aksarka\n",
      "Processing Record 30 of Set 12 | nabire\n",
      "Processing Record 31 of Set 12 | lima duarte\n",
      "Processing Record 32 of Set 12 | ust-kulom\n",
      "Processing Record 33 of Set 12 | bodaybo\n",
      "Processing Record 34 of Set 12 | saint anthony\n",
      "Processing Record 35 of Set 12 | poya\n",
      "Processing Record 36 of Set 12 | mahanoro\n",
      "Processing Record 37 of Set 12 | kovylkino\n",
      "Processing Record 38 of Set 12 | vila franca do campo\n",
      "Processing Record 39 of Set 12 | calama\n",
      "Processing Record 40 of Set 12 | nezhinka\n",
      "Processing Record 41 of Set 12 | tromso\n",
      "Processing Record 42 of Set 12 | jacksonville\n",
      "Processing Record 43 of Set 12 | karoi\n",
      "Processing Record 44 of Set 12 | clonakilty\n",
      "Processing Record 45 of Set 12 | prachuap khiri khan\n",
      "Processing Record 46 of Set 12 | toliary\n",
      "City, toliary, not found. Skipping...\n",
      "Processing Record 47 of Set 12 | sept-iles\n",
      "Processing Record 48 of Set 12 | broome\n",
      "Processing Record 49 of Set 12 | karamay\n",
      "City, karamay, not found. Skipping...\n",
      "Processing Record 50 of Set 12 | xingcheng\n",
      "Processing Record 1 of Set 13 | omsukchan\n",
      "Processing Record 2 of Set 13 | paamiut\n",
      "Processing Record 3 of Set 13 | aguas formosas\n",
      "Processing Record 4 of Set 13 | praia da vitoria\n",
      "Processing Record 5 of Set 13 | hami\n",
      "Processing Record 6 of Set 13 | calabar\n",
      "Processing Record 7 of Set 13 | soyo\n",
      "Processing Record 8 of Set 13 | skibbereen\n",
      "Processing Record 9 of Set 13 | mitropoli\n",
      "Processing Record 10 of Set 13 | mudgee\n",
      "Processing Record 11 of Set 13 | puerto rondon\n"
     ]
    }
   ],
   "source": [
    "#Open Weather Map API URL and query URL\n",
    "w_url = 'http://api.openweathermap.org/data/2.5/weather?'\n",
    "query_url = w_url + 'appid=' + weather_api_key + '&q=' \n",
    "\n",
    "#Counters for count and batch; new city weather list\n",
    "count = 1\n",
    "batch = 1\n",
    "city_weather = []\n",
    "\n",
    "#Loop through cities\n",
    "for i, c in enumerate(cities):\n",
    "    \n",
    "    #Try: finding city, adding appropriate values to city_dict\n",
    "    try:\n",
    "        response = requests.get(query_url + c + str('&units=imperial')).json()\n",
    "        \n",
    "        print(f'Processing Record {count} of Set {batch} | {c}') \n",
    "        city_dict = {'City': response['name'],\n",
    "                     'Lat': response['coord']['lat'],\n",
    "                     'Lng': response['coord']['lon'],\n",
    "                     'Max Temp (F)': response['main']['temp_max'],\n",
    "                     'Humidity (%)': response['main']['humidity'],\n",
    "                     'Cloudiness (%)': response['clouds']['all'],\n",
    "                     'Wind Speed (mph)': response['wind']['speed'],\n",
    "                     'Country': response['sys']['country'],\n",
    "                     'Date': response['dt']}\n",
    "        \n",
    "        city_weather.append(city_dict)\n",
    "    \n",
    "    #Except: if city info is not found\n",
    "    except:\n",
    "        print(f'City, {c}, not found. Skipping...')    \n",
    "   \n",
    "    #Increase count, increase batch once batch hits 51 and reset count to 1\n",
    "    count += 1\n",
    "\n",
    "    if count == 51:\n",
    "        batch +=1\n",
    "        count = 1\n"
   ]
  },
  {
   "cell_type": "markdown",
   "metadata": {},
   "source": [
    "### Convert Raw Data to DataFrame\n",
    "* Export the city data into a .csv.\n",
    "* Display the DataFrame"
   ]
  },
  {
   "cell_type": "code",
   "execution_count": 29,
   "metadata": {},
   "outputs": [
    {
     "data": {
      "text/html": [
       "<div>\n",
       "<style scoped>\n",
       "    .dataframe tbody tr th:only-of-type {\n",
       "        vertical-align: middle;\n",
       "    }\n",
       "\n",
       "    .dataframe tbody tr th {\n",
       "        vertical-align: top;\n",
       "    }\n",
       "\n",
       "    .dataframe thead th {\n",
       "        text-align: right;\n",
       "    }\n",
       "</style>\n",
       "<table border=\"1\" class=\"dataframe\">\n",
       "  <thead>\n",
       "    <tr style=\"text-align: right;\">\n",
       "      <th></th>\n",
       "      <th>City</th>\n",
       "      <th>Lat</th>\n",
       "      <th>Lng</th>\n",
       "      <th>Max Temp (F)</th>\n",
       "      <th>Humidity (%)</th>\n",
       "      <th>Cloudiness (%)</th>\n",
       "      <th>Wind Speed (mph)</th>\n",
       "      <th>Country</th>\n",
       "      <th>Date</th>\n",
       "    </tr>\n",
       "  </thead>\n",
       "  <tbody>\n",
       "    <tr>\n",
       "      <th>0</th>\n",
       "      <td>Punta Arenas</td>\n",
       "      <td>-53.15</td>\n",
       "      <td>-70.92</td>\n",
       "      <td>32.00</td>\n",
       "      <td>95</td>\n",
       "      <td>7</td>\n",
       "      <td>2.24</td>\n",
       "      <td>CL</td>\n",
       "      <td>07/16/2020</td>\n",
       "    </tr>\n",
       "    <tr>\n",
       "      <th>1</th>\n",
       "      <td>Jauja</td>\n",
       "      <td>-11.78</td>\n",
       "      <td>-75.50</td>\n",
       "      <td>46.78</td>\n",
       "      <td>71</td>\n",
       "      <td>69</td>\n",
       "      <td>3.74</td>\n",
       "      <td>PE</td>\n",
       "      <td>07/16/2020</td>\n",
       "    </tr>\n",
       "    <tr>\n",
       "      <th>2</th>\n",
       "      <td>Gilgit</td>\n",
       "      <td>35.92</td>\n",
       "      <td>74.31</td>\n",
       "      <td>79.83</td>\n",
       "      <td>31</td>\n",
       "      <td>79</td>\n",
       "      <td>3.20</td>\n",
       "      <td>PK</td>\n",
       "      <td>07/16/2020</td>\n",
       "    </tr>\n",
       "    <tr>\n",
       "      <th>3</th>\n",
       "      <td>Cayenne</td>\n",
       "      <td>4.93</td>\n",
       "      <td>-52.33</td>\n",
       "      <td>77.00</td>\n",
       "      <td>100</td>\n",
       "      <td>20</td>\n",
       "      <td>9.10</td>\n",
       "      <td>GF</td>\n",
       "      <td>07/16/2020</td>\n",
       "    </tr>\n",
       "    <tr>\n",
       "      <th>4</th>\n",
       "      <td>Yaan</td>\n",
       "      <td>7.38</td>\n",
       "      <td>8.57</td>\n",
       "      <td>71.08</td>\n",
       "      <td>98</td>\n",
       "      <td>100</td>\n",
       "      <td>6.98</td>\n",
       "      <td>NG</td>\n",
       "      <td>07/16/2020</td>\n",
       "    </tr>\n",
       "    <tr>\n",
       "      <th>...</th>\n",
       "      <td>...</td>\n",
       "      <td>...</td>\n",
       "      <td>...</td>\n",
       "      <td>...</td>\n",
       "      <td>...</td>\n",
       "      <td>...</td>\n",
       "      <td>...</td>\n",
       "      <td>...</td>\n",
       "      <td>...</td>\n",
       "    </tr>\n",
       "    <tr>\n",
       "      <th>561</th>\n",
       "      <td>Soyo</td>\n",
       "      <td>-6.13</td>\n",
       "      <td>12.37</td>\n",
       "      <td>70.75</td>\n",
       "      <td>91</td>\n",
       "      <td>57</td>\n",
       "      <td>6.89</td>\n",
       "      <td>AO</td>\n",
       "      <td>07/16/2020</td>\n",
       "    </tr>\n",
       "    <tr>\n",
       "      <th>562</th>\n",
       "      <td>Skibbereen</td>\n",
       "      <td>51.55</td>\n",
       "      <td>-9.27</td>\n",
       "      <td>57.20</td>\n",
       "      <td>93</td>\n",
       "      <td>40</td>\n",
       "      <td>9.17</td>\n",
       "      <td>IE</td>\n",
       "      <td>07/16/2020</td>\n",
       "    </tr>\n",
       "    <tr>\n",
       "      <th>563</th>\n",
       "      <td>Mitrópoli</td>\n",
       "      <td>39.34</td>\n",
       "      <td>21.84</td>\n",
       "      <td>53.01</td>\n",
       "      <td>62</td>\n",
       "      <td>5</td>\n",
       "      <td>11.01</td>\n",
       "      <td>GR</td>\n",
       "      <td>07/16/2020</td>\n",
       "    </tr>\n",
       "    <tr>\n",
       "      <th>564</th>\n",
       "      <td>Mudgee</td>\n",
       "      <td>-32.59</td>\n",
       "      <td>149.59</td>\n",
       "      <td>55.40</td>\n",
       "      <td>47</td>\n",
       "      <td>0</td>\n",
       "      <td>10.29</td>\n",
       "      <td>AU</td>\n",
       "      <td>07/16/2020</td>\n",
       "    </tr>\n",
       "    <tr>\n",
       "      <th>565</th>\n",
       "      <td>Puerto Rondón</td>\n",
       "      <td>6.28</td>\n",
       "      <td>-71.10</td>\n",
       "      <td>73.69</td>\n",
       "      <td>89</td>\n",
       "      <td>99</td>\n",
       "      <td>3.13</td>\n",
       "      <td>CO</td>\n",
       "      <td>07/16/2020</td>\n",
       "    </tr>\n",
       "  </tbody>\n",
       "</table>\n",
       "<p>566 rows × 9 columns</p>\n",
       "</div>"
      ],
      "text/plain": [
       "              City    Lat     Lng  Max Temp (F)  Humidity (%)  Cloudiness (%)  \\\n",
       "0     Punta Arenas -53.15  -70.92         32.00            95               7   \n",
       "1            Jauja -11.78  -75.50         46.78            71              69   \n",
       "2           Gilgit  35.92   74.31         79.83            31              79   \n",
       "3          Cayenne   4.93  -52.33         77.00           100              20   \n",
       "4             Yaan   7.38    8.57         71.08            98             100   \n",
       "..             ...    ...     ...           ...           ...             ...   \n",
       "561           Soyo  -6.13   12.37         70.75            91              57   \n",
       "562     Skibbereen  51.55   -9.27         57.20            93              40   \n",
       "563      Mitrópoli  39.34   21.84         53.01            62               5   \n",
       "564         Mudgee -32.59  149.59         55.40            47               0   \n",
       "565  Puerto Rondón   6.28  -71.10         73.69            89              99   \n",
       "\n",
       "     Wind Speed (mph) Country        Date  \n",
       "0                2.24      CL  07/16/2020  \n",
       "1                3.74      PE  07/16/2020  \n",
       "2                3.20      PK  07/16/2020  \n",
       "3                9.10      GF  07/16/2020  \n",
       "4                6.98      NG  07/16/2020  \n",
       "..                ...     ...         ...  \n",
       "561              6.89      AO  07/16/2020  \n",
       "562              9.17      IE  07/16/2020  \n",
       "563             11.01      GR  07/16/2020  \n",
       "564             10.29      AU  07/16/2020  \n",
       "565              3.13      CO  07/16/2020  \n",
       "\n",
       "[566 rows x 9 columns]"
      ]
     },
     "execution_count": 29,
     "metadata": {},
     "output_type": "execute_result"
    }
   ],
   "source": [
    "#Create dataframe from above dictionary for the weather of the cities\n",
    "weather_df = pd.DataFrame(city_weather)\n",
    "\n",
    "#Format the date\n",
    "weather_df['Date'] = pd.to_datetime(weather_df['Date'], unit = 's')\n",
    "weather_df['Date'] = weather_df['Date'].dt.strftime('%m/%d/%Y')\n",
    "\n",
    "#Output the data to a .csv\n",
    "weather_df.to_csv(output_data_file)\n",
    "weather_df"
   ]
  },
  {
   "cell_type": "code",
   "execution_count": 32,
   "metadata": {},
   "outputs": [
    {
     "data": {
      "text/plain": [
       "City                566\n",
       "Lat                 566\n",
       "Lng                 566\n",
       "Max Temp (F)        566\n",
       "Humidity (%)        566\n",
       "Cloudiness (%)      566\n",
       "Wind Speed (mph)    566\n",
       "Country             566\n",
       "Date                566\n",
       "dtype: int64"
      ]
     },
     "execution_count": 32,
     "metadata": {},
     "output_type": "execute_result"
    }
   ],
   "source": [
    "#Dataframe count\n",
    "weather_df.count()"
   ]
  },
  {
   "cell_type": "markdown",
   "metadata": {},
   "source": [
    "## Inspect the data and remove the cities where the humidity > 100%.\n",
    "----\n",
    "Skip this step if there are no cities that have humidity > 100%. "
   ]
  },
  {
   "cell_type": "code",
   "execution_count": 6,
   "metadata": {},
   "outputs": [
    {
     "data": {
      "text/html": [
       "<div>\n",
       "<style scoped>\n",
       "    .dataframe tbody tr th:only-of-type {\n",
       "        vertical-align: middle;\n",
       "    }\n",
       "\n",
       "    .dataframe tbody tr th {\n",
       "        vertical-align: top;\n",
       "    }\n",
       "\n",
       "    .dataframe thead th {\n",
       "        text-align: right;\n",
       "    }\n",
       "</style>\n",
       "<table border=\"1\" class=\"dataframe\">\n",
       "  <thead>\n",
       "    <tr style=\"text-align: right;\">\n",
       "      <th></th>\n",
       "      <th>Lat</th>\n",
       "      <th>Lng</th>\n",
       "      <th>Max Temp (F)</th>\n",
       "      <th>Humidity (%)</th>\n",
       "      <th>Cloudiness (%)</th>\n",
       "      <th>Wind Speed (mph)</th>\n",
       "    </tr>\n",
       "  </thead>\n",
       "  <tbody>\n",
       "    <tr>\n",
       "      <th>count</th>\n",
       "      <td>538.000000</td>\n",
       "      <td>538.000000</td>\n",
       "      <td>538.000000</td>\n",
       "      <td>538.000000</td>\n",
       "      <td>538.000000</td>\n",
       "      <td>538.000000</td>\n",
       "    </tr>\n",
       "    <tr>\n",
       "      <th>mean</th>\n",
       "      <td>18.809777</td>\n",
       "      <td>21.473643</td>\n",
       "      <td>68.458587</td>\n",
       "      <td>71.405204</td>\n",
       "      <td>51.009294</td>\n",
       "      <td>7.575483</td>\n",
       "    </tr>\n",
       "    <tr>\n",
       "      <th>std</th>\n",
       "      <td>33.835475</td>\n",
       "      <td>89.100878</td>\n",
       "      <td>13.919930</td>\n",
       "      <td>18.964422</td>\n",
       "      <td>38.851984</td>\n",
       "      <td>5.170012</td>\n",
       "    </tr>\n",
       "    <tr>\n",
       "      <th>min</th>\n",
       "      <td>-54.800000</td>\n",
       "      <td>-175.200000</td>\n",
       "      <td>26.600000</td>\n",
       "      <td>1.000000</td>\n",
       "      <td>0.000000</td>\n",
       "      <td>0.090000</td>\n",
       "    </tr>\n",
       "    <tr>\n",
       "      <th>25%</th>\n",
       "      <td>-8.130000</td>\n",
       "      <td>-58.165000</td>\n",
       "      <td>58.460000</td>\n",
       "      <td>62.000000</td>\n",
       "      <td>7.250000</td>\n",
       "      <td>3.740000</td>\n",
       "    </tr>\n",
       "    <tr>\n",
       "      <th>50%</th>\n",
       "      <td>19.855000</td>\n",
       "      <td>26.430000</td>\n",
       "      <td>70.340000</td>\n",
       "      <td>75.000000</td>\n",
       "      <td>53.500000</td>\n",
       "      <td>6.700000</td>\n",
       "    </tr>\n",
       "    <tr>\n",
       "      <th>75%</th>\n",
       "      <td>47.462500</td>\n",
       "      <td>100.425000</td>\n",
       "      <td>80.010000</td>\n",
       "      <td>85.000000</td>\n",
       "      <td>90.000000</td>\n",
       "      <td>9.855000</td>\n",
       "    </tr>\n",
       "    <tr>\n",
       "      <th>max</th>\n",
       "      <td>78.220000</td>\n",
       "      <td>179.320000</td>\n",
       "      <td>100.400000</td>\n",
       "      <td>100.000000</td>\n",
       "      <td>100.000000</td>\n",
       "      <td>32.060000</td>\n",
       "    </tr>\n",
       "  </tbody>\n",
       "</table>\n",
       "</div>"
      ],
      "text/plain": [
       "              Lat         Lng  Max Temp (F)  Humidity (%)  Cloudiness (%)  \\\n",
       "count  538.000000  538.000000    538.000000    538.000000      538.000000   \n",
       "mean    18.809777   21.473643     68.458587     71.405204       51.009294   \n",
       "std     33.835475   89.100878     13.919930     18.964422       38.851984   \n",
       "min    -54.800000 -175.200000     26.600000      1.000000        0.000000   \n",
       "25%     -8.130000  -58.165000     58.460000     62.000000        7.250000   \n",
       "50%     19.855000   26.430000     70.340000     75.000000       53.500000   \n",
       "75%     47.462500  100.425000     80.010000     85.000000       90.000000   \n",
       "max     78.220000  179.320000    100.400000    100.000000      100.000000   \n",
       "\n",
       "       Wind Speed (mph)  \n",
       "count        538.000000  \n",
       "mean           7.575483  \n",
       "std            5.170012  \n",
       "min            0.090000  \n",
       "25%            3.740000  \n",
       "50%            6.700000  \n",
       "75%            9.855000  \n",
       "max           32.060000  "
      ]
     },
     "execution_count": 6,
     "metadata": {},
     "output_type": "execute_result"
    }
   ],
   "source": [
    "#Summary statistics of dataframe\n",
    "weather_df.describe()"
   ]
  },
  {
   "cell_type": "code",
   "execution_count": 7,
   "metadata": {},
   "outputs": [
    {
     "data": {
      "text/html": [
       "<div>\n",
       "<style scoped>\n",
       "    .dataframe tbody tr th:only-of-type {\n",
       "        vertical-align: middle;\n",
       "    }\n",
       "\n",
       "    .dataframe tbody tr th {\n",
       "        vertical-align: top;\n",
       "    }\n",
       "\n",
       "    .dataframe thead th {\n",
       "        text-align: right;\n",
       "    }\n",
       "</style>\n",
       "<table border=\"1\" class=\"dataframe\">\n",
       "  <thead>\n",
       "    <tr style=\"text-align: right;\">\n",
       "      <th></th>\n",
       "      <th>City</th>\n",
       "      <th>Lat</th>\n",
       "      <th>Lng</th>\n",
       "      <th>Max Temp (F)</th>\n",
       "      <th>Humidity (%)</th>\n",
       "      <th>Cloudiness (%)</th>\n",
       "      <th>Wind Speed (mph)</th>\n",
       "      <th>Country</th>\n",
       "      <th>Date</th>\n",
       "    </tr>\n",
       "  </thead>\n",
       "  <tbody>\n",
       "    <tr>\n",
       "      <th>0</th>\n",
       "      <td>Novy Urengoy</td>\n",
       "      <td>66.08</td>\n",
       "      <td>76.63</td>\n",
       "      <td>50.77</td>\n",
       "      <td>78</td>\n",
       "      <td>100</td>\n",
       "      <td>25.21</td>\n",
       "      <td>RU</td>\n",
       "      <td>07/16/2020</td>\n",
       "    </tr>\n",
       "    <tr>\n",
       "      <th>1</th>\n",
       "      <td>Ribeira Grande</td>\n",
       "      <td>38.52</td>\n",
       "      <td>-28.70</td>\n",
       "      <td>68.68</td>\n",
       "      <td>80</td>\n",
       "      <td>89</td>\n",
       "      <td>4.32</td>\n",
       "      <td>PT</td>\n",
       "      <td>07/16/2020</td>\n",
       "    </tr>\n",
       "    <tr>\n",
       "      <th>2</th>\n",
       "      <td>Ponta Delgada</td>\n",
       "      <td>37.73</td>\n",
       "      <td>-25.67</td>\n",
       "      <td>68.00</td>\n",
       "      <td>72</td>\n",
       "      <td>75</td>\n",
       "      <td>8.05</td>\n",
       "      <td>PT</td>\n",
       "      <td>07/16/2020</td>\n",
       "    </tr>\n",
       "    <tr>\n",
       "      <th>3</th>\n",
       "      <td>Rikitea</td>\n",
       "      <td>-23.12</td>\n",
       "      <td>-134.97</td>\n",
       "      <td>74.07</td>\n",
       "      <td>87</td>\n",
       "      <td>100</td>\n",
       "      <td>6.85</td>\n",
       "      <td>PF</td>\n",
       "      <td>07/16/2020</td>\n",
       "    </tr>\n",
       "    <tr>\n",
       "      <th>4</th>\n",
       "      <td>Voyvozh</td>\n",
       "      <td>62.89</td>\n",
       "      <td>54.96</td>\n",
       "      <td>55.18</td>\n",
       "      <td>96</td>\n",
       "      <td>100</td>\n",
       "      <td>7.85</td>\n",
       "      <td>RU</td>\n",
       "      <td>07/16/2020</td>\n",
       "    </tr>\n",
       "    <tr>\n",
       "      <th>...</th>\n",
       "      <td>...</td>\n",
       "      <td>...</td>\n",
       "      <td>...</td>\n",
       "      <td>...</td>\n",
       "      <td>...</td>\n",
       "      <td>...</td>\n",
       "      <td>...</td>\n",
       "      <td>...</td>\n",
       "      <td>...</td>\n",
       "    </tr>\n",
       "    <tr>\n",
       "      <th>533</th>\n",
       "      <td>Aleksandrovskiy Zavod</td>\n",
       "      <td>50.92</td>\n",
       "      <td>117.94</td>\n",
       "      <td>79.74</td>\n",
       "      <td>57</td>\n",
       "      <td>98</td>\n",
       "      <td>6.71</td>\n",
       "      <td>RU</td>\n",
       "      <td>07/16/2020</td>\n",
       "    </tr>\n",
       "    <tr>\n",
       "      <th>534</th>\n",
       "      <td>Gaza</td>\n",
       "      <td>31.50</td>\n",
       "      <td>34.47</td>\n",
       "      <td>73.99</td>\n",
       "      <td>70</td>\n",
       "      <td>2</td>\n",
       "      <td>3.00</td>\n",
       "      <td>PS</td>\n",
       "      <td>07/16/2020</td>\n",
       "    </tr>\n",
       "    <tr>\n",
       "      <th>535</th>\n",
       "      <td>Port Blair</td>\n",
       "      <td>11.67</td>\n",
       "      <td>92.75</td>\n",
       "      <td>81.05</td>\n",
       "      <td>80</td>\n",
       "      <td>100</td>\n",
       "      <td>8.30</td>\n",
       "      <td>IN</td>\n",
       "      <td>07/16/2020</td>\n",
       "    </tr>\n",
       "    <tr>\n",
       "      <th>536</th>\n",
       "      <td>Vozhega</td>\n",
       "      <td>60.47</td>\n",
       "      <td>40.22</td>\n",
       "      <td>56.21</td>\n",
       "      <td>98</td>\n",
       "      <td>95</td>\n",
       "      <td>8.39</td>\n",
       "      <td>RU</td>\n",
       "      <td>07/16/2020</td>\n",
       "    </tr>\n",
       "    <tr>\n",
       "      <th>537</th>\n",
       "      <td>Katobu</td>\n",
       "      <td>-4.94</td>\n",
       "      <td>122.53</td>\n",
       "      <td>84.56</td>\n",
       "      <td>65</td>\n",
       "      <td>62</td>\n",
       "      <td>5.21</td>\n",
       "      <td>ID</td>\n",
       "      <td>07/16/2020</td>\n",
       "    </tr>\n",
       "  </tbody>\n",
       "</table>\n",
       "<p>538 rows × 9 columns</p>\n",
       "</div>"
      ],
      "text/plain": [
       "                      City    Lat     Lng  Max Temp (F)  Humidity (%)  \\\n",
       "0             Novy Urengoy  66.08   76.63         50.77            78   \n",
       "1           Ribeira Grande  38.52  -28.70         68.68            80   \n",
       "2            Ponta Delgada  37.73  -25.67         68.00            72   \n",
       "3                  Rikitea -23.12 -134.97         74.07            87   \n",
       "4                  Voyvozh  62.89   54.96         55.18            96   \n",
       "..                     ...    ...     ...           ...           ...   \n",
       "533  Aleksandrovskiy Zavod  50.92  117.94         79.74            57   \n",
       "534                   Gaza  31.50   34.47         73.99            70   \n",
       "535             Port Blair  11.67   92.75         81.05            80   \n",
       "536                Vozhega  60.47   40.22         56.21            98   \n",
       "537                 Katobu  -4.94  122.53         84.56            65   \n",
       "\n",
       "     Cloudiness (%)  Wind Speed (mph) Country        Date  \n",
       "0               100             25.21      RU  07/16/2020  \n",
       "1                89              4.32      PT  07/16/2020  \n",
       "2                75              8.05      PT  07/16/2020  \n",
       "3               100              6.85      PF  07/16/2020  \n",
       "4               100              7.85      RU  07/16/2020  \n",
       "..              ...               ...     ...         ...  \n",
       "533              98              6.71      RU  07/16/2020  \n",
       "534               2              3.00      PS  07/16/2020  \n",
       "535             100              8.30      IN  07/16/2020  \n",
       "536              95              8.39      RU  07/16/2020  \n",
       "537              62              5.21      ID  07/16/2020  \n",
       "\n",
       "[538 rows x 9 columns]"
      ]
     },
     "execution_count": 7,
     "metadata": {},
     "output_type": "execute_result"
    }
   ],
   "source": [
    "#Make a new DataFrame equal to the city data to drop all humidity outliers by index.\n",
    "city_data = weather_df\n",
    "city_data"
   ]
  },
  {
   "cell_type": "code",
   "execution_count": 8,
   "metadata": {},
   "outputs": [
    {
     "data": {
      "text/plain": [
       "Int64Index([], dtype='int64')"
      ]
     },
     "execution_count": 8,
     "metadata": {},
     "output_type": "execute_result"
    }
   ],
   "source": [
    "#Get the indices of cities that have humidity over 100%.\n",
    "humidityindex = city_data[city_data['Humidity (%)']>100].index\n",
    "humidityindex"
   ]
  },
  {
   "cell_type": "code",
   "execution_count": 9,
   "metadata": {},
   "outputs": [
    {
     "data": {
      "text/html": [
       "<div>\n",
       "<style scoped>\n",
       "    .dataframe tbody tr th:only-of-type {\n",
       "        vertical-align: middle;\n",
       "    }\n",
       "\n",
       "    .dataframe tbody tr th {\n",
       "        vertical-align: top;\n",
       "    }\n",
       "\n",
       "    .dataframe thead th {\n",
       "        text-align: right;\n",
       "    }\n",
       "</style>\n",
       "<table border=\"1\" class=\"dataframe\">\n",
       "  <thead>\n",
       "    <tr style=\"text-align: right;\">\n",
       "      <th></th>\n",
       "      <th>City</th>\n",
       "      <th>Lat</th>\n",
       "      <th>Lng</th>\n",
       "      <th>Max Temp (F)</th>\n",
       "      <th>Humidity (%)</th>\n",
       "      <th>Cloudiness (%)</th>\n",
       "      <th>Wind Speed (mph)</th>\n",
       "      <th>Country</th>\n",
       "      <th>Date</th>\n",
       "    </tr>\n",
       "  </thead>\n",
       "  <tbody>\n",
       "    <tr>\n",
       "      <th>0</th>\n",
       "      <td>Novy Urengoy</td>\n",
       "      <td>66.08</td>\n",
       "      <td>76.63</td>\n",
       "      <td>50.77</td>\n",
       "      <td>78</td>\n",
       "      <td>100</td>\n",
       "      <td>25.21</td>\n",
       "      <td>RU</td>\n",
       "      <td>07/16/2020</td>\n",
       "    </tr>\n",
       "    <tr>\n",
       "      <th>1</th>\n",
       "      <td>Ribeira Grande</td>\n",
       "      <td>38.52</td>\n",
       "      <td>-28.70</td>\n",
       "      <td>68.68</td>\n",
       "      <td>80</td>\n",
       "      <td>89</td>\n",
       "      <td>4.32</td>\n",
       "      <td>PT</td>\n",
       "      <td>07/16/2020</td>\n",
       "    </tr>\n",
       "    <tr>\n",
       "      <th>2</th>\n",
       "      <td>Ponta Delgada</td>\n",
       "      <td>37.73</td>\n",
       "      <td>-25.67</td>\n",
       "      <td>68.00</td>\n",
       "      <td>72</td>\n",
       "      <td>75</td>\n",
       "      <td>8.05</td>\n",
       "      <td>PT</td>\n",
       "      <td>07/16/2020</td>\n",
       "    </tr>\n",
       "    <tr>\n",
       "      <th>3</th>\n",
       "      <td>Rikitea</td>\n",
       "      <td>-23.12</td>\n",
       "      <td>-134.97</td>\n",
       "      <td>74.07</td>\n",
       "      <td>87</td>\n",
       "      <td>100</td>\n",
       "      <td>6.85</td>\n",
       "      <td>PF</td>\n",
       "      <td>07/16/2020</td>\n",
       "    </tr>\n",
       "    <tr>\n",
       "      <th>4</th>\n",
       "      <td>Voyvozh</td>\n",
       "      <td>62.89</td>\n",
       "      <td>54.96</td>\n",
       "      <td>55.18</td>\n",
       "      <td>96</td>\n",
       "      <td>100</td>\n",
       "      <td>7.85</td>\n",
       "      <td>RU</td>\n",
       "      <td>07/16/2020</td>\n",
       "    </tr>\n",
       "    <tr>\n",
       "      <th>...</th>\n",
       "      <td>...</td>\n",
       "      <td>...</td>\n",
       "      <td>...</td>\n",
       "      <td>...</td>\n",
       "      <td>...</td>\n",
       "      <td>...</td>\n",
       "      <td>...</td>\n",
       "      <td>...</td>\n",
       "      <td>...</td>\n",
       "    </tr>\n",
       "    <tr>\n",
       "      <th>533</th>\n",
       "      <td>Aleksandrovskiy Zavod</td>\n",
       "      <td>50.92</td>\n",
       "      <td>117.94</td>\n",
       "      <td>79.74</td>\n",
       "      <td>57</td>\n",
       "      <td>98</td>\n",
       "      <td>6.71</td>\n",
       "      <td>RU</td>\n",
       "      <td>07/16/2020</td>\n",
       "    </tr>\n",
       "    <tr>\n",
       "      <th>534</th>\n",
       "      <td>Gaza</td>\n",
       "      <td>31.50</td>\n",
       "      <td>34.47</td>\n",
       "      <td>73.99</td>\n",
       "      <td>70</td>\n",
       "      <td>2</td>\n",
       "      <td>3.00</td>\n",
       "      <td>PS</td>\n",
       "      <td>07/16/2020</td>\n",
       "    </tr>\n",
       "    <tr>\n",
       "      <th>535</th>\n",
       "      <td>Port Blair</td>\n",
       "      <td>11.67</td>\n",
       "      <td>92.75</td>\n",
       "      <td>81.05</td>\n",
       "      <td>80</td>\n",
       "      <td>100</td>\n",
       "      <td>8.30</td>\n",
       "      <td>IN</td>\n",
       "      <td>07/16/2020</td>\n",
       "    </tr>\n",
       "    <tr>\n",
       "      <th>536</th>\n",
       "      <td>Vozhega</td>\n",
       "      <td>60.47</td>\n",
       "      <td>40.22</td>\n",
       "      <td>56.21</td>\n",
       "      <td>98</td>\n",
       "      <td>95</td>\n",
       "      <td>8.39</td>\n",
       "      <td>RU</td>\n",
       "      <td>07/16/2020</td>\n",
       "    </tr>\n",
       "    <tr>\n",
       "      <th>537</th>\n",
       "      <td>Katobu</td>\n",
       "      <td>-4.94</td>\n",
       "      <td>122.53</td>\n",
       "      <td>84.56</td>\n",
       "      <td>65</td>\n",
       "      <td>62</td>\n",
       "      <td>5.21</td>\n",
       "      <td>ID</td>\n",
       "      <td>07/16/2020</td>\n",
       "    </tr>\n",
       "  </tbody>\n",
       "</table>\n",
       "<p>538 rows × 9 columns</p>\n",
       "</div>"
      ],
      "text/plain": [
       "                      City    Lat     Lng  Max Temp (F)  Humidity (%)  \\\n",
       "0             Novy Urengoy  66.08   76.63         50.77            78   \n",
       "1           Ribeira Grande  38.52  -28.70         68.68            80   \n",
       "2            Ponta Delgada  37.73  -25.67         68.00            72   \n",
       "3                  Rikitea -23.12 -134.97         74.07            87   \n",
       "4                  Voyvozh  62.89   54.96         55.18            96   \n",
       "..                     ...    ...     ...           ...           ...   \n",
       "533  Aleksandrovskiy Zavod  50.92  117.94         79.74            57   \n",
       "534                   Gaza  31.50   34.47         73.99            70   \n",
       "535             Port Blair  11.67   92.75         81.05            80   \n",
       "536                Vozhega  60.47   40.22         56.21            98   \n",
       "537                 Katobu  -4.94  122.53         84.56            65   \n",
       "\n",
       "     Cloudiness (%)  Wind Speed (mph) Country        Date  \n",
       "0               100             25.21      RU  07/16/2020  \n",
       "1                89              4.32      PT  07/16/2020  \n",
       "2                75              8.05      PT  07/16/2020  \n",
       "3               100              6.85      PF  07/16/2020  \n",
       "4               100              7.85      RU  07/16/2020  \n",
       "..              ...               ...     ...         ...  \n",
       "533              98              6.71      RU  07/16/2020  \n",
       "534               2              3.00      PS  07/16/2020  \n",
       "535             100              8.30      IN  07/16/2020  \n",
       "536              95              8.39      RU  07/16/2020  \n",
       "537              62              5.21      ID  07/16/2020  \n",
       "\n",
       "[538 rows x 9 columns]"
      ]
     },
     "execution_count": 9,
     "metadata": {},
     "output_type": "execute_result"
    }
   ],
   "source": [
    "#Passing \"inplace=False\" will make a copy of the city_data DataFrame, which we call \"clean_city_data\".\n",
    "#Extract relevant fields from the data frame\n",
    "clean_city_data = city_data.drop(humidityindex, inplace=False)                                      \n",
    "clean_city_data"
   ]
  },
  {
   "cell_type": "code",
   "execution_count": 10,
   "metadata": {},
   "outputs": [],
   "source": [
    "#Export the City_Data into a csv\n",
    "clean_city_data.to_csv('output_data/CleanCityData.csv')"
   ]
  },
  {
   "cell_type": "markdown",
   "metadata": {},
   "source": [
    "## Plotting the Data\n",
    "* Use proper labeling of the plots using plot titles (including date of analysis) and axes labels.\n",
    "* Save the plotted figures as .pngs."
   ]
  },
  {
   "cell_type": "markdown",
   "metadata": {},
   "source": [
    "## Latitude vs. Temperature Plot"
   ]
  },
  {
   "cell_type": "code",
   "execution_count": 11,
   "metadata": {
    "scrolled": true
   },
   "outputs": [],
   "source": [
    "#Function for creating scatterplots\n",
    "def temp(y, x=(clean_city_data['Lat'])):\n",
    "    plt.scatter(x,y, marker = 'o', edgecolor = 'black', facecolor = 'purple')\n",
    "    plt.xlabel(x.name + 'itude')\n",
    "    plt.ylabel(y.name)\n",
    "    plt.title('City ' + x.name + 'itude vs. ' + y.name + ' - (' + clean_city_data['Date'][0] + ')')\n",
    "    plt.grid()\n",
    "    plt.savefig('output_data/' + x.name + y.name + '.png') #Saving images"
   ]
  },
  {
   "cell_type": "code",
   "execution_count": 12,
   "metadata": {},
   "outputs": [
    {
     "data": {
      "image/png": "[encoded data removed]",
      "text/plain": [
       "<Figure size 432x288 with 1 Axes>"
      ]
     },
     "metadata": {
      "needs_background": "light"
     },
     "output_type": "display_data"
    }
   ],
   "source": [
    "#Latitude vs. Max Temp Plot\n",
    "temp(clean_city_data['Max Temp (F)'])"
   ]
  },
  {
   "cell_type": "markdown",
   "metadata": {},
   "source": [
    "The above scatterplot is an analysis of latitude of over 500 randomly selected cities versus the maximum temperature of each city. From the shape of this graph, it appears several cities located close to the equator have higher maximum temperatures than cities located further away from the equator. "
   ]
  },
  {
   "cell_type": "markdown",
   "metadata": {},
   "source": [
    "## Latitude vs. Humidity Plot"
   ]
  },
  {
   "cell_type": "code",
   "execution_count": 13,
   "metadata": {},
   "outputs": [
    {
     "data": {
      "image/png": "[encoded data removed]",
      "text/plain": [
       "<Figure size 432x288 with 1 Axes>"
      ]
     },
     "metadata": {
      "needs_background": "light"
     },
     "output_type": "display_data"
    }
   ],
   "source": [
    "#Latitude vs. Humidity Plot\n",
    "temp(clean_city_data['Humidity (%)'])"
   ]
  },
  {
   "cell_type": "markdown",
   "metadata": {},
   "source": [
    "The above scatterplot is an analysis of latitude of over 500 randomly selected cities versus the percentage of humidity in each city. After observing this graph, there does not appear to be a relationship between the location of a city and the city's humidity. "
   ]
  },
  {
   "cell_type": "markdown",
   "metadata": {},
   "source": [
    "## Latitude vs. Cloudiness Plot"
   ]
  },
  {
   "cell_type": "code",
   "execution_count": 14,
   "metadata": {},
   "outputs": [
    {
     "data": {
      "image/png": "[encoded data removed]",
      "text/plain": [
       "<Figure size 432x288 with 1 Axes>"
      ]
     },
     "metadata": {
      "needs_background": "light"
     },
     "output_type": "display_data"
    }
   ],
   "source": [
    "#Latitude vs. Cloudiness Plot\n",
    "temp(clean_city_data['Cloudiness (%)'])"
   ]
  },
  {
   "cell_type": "markdown",
   "metadata": {},
   "source": [
    "The above scatterplot is an analysis of latitude of over 500 randomly selected cities versus the percentage of cloudiness of each city. After observing this graph, there does not appear to be a relationship between the location of a city and the city's cloudiness."
   ]
  },
  {
   "cell_type": "markdown",
   "metadata": {},
   "source": [
    "## Latitude vs. Wind Speed Plot"
   ]
  },
  {
   "cell_type": "code",
   "execution_count": 15,
   "metadata": {},
   "outputs": [
    {
     "data": {
      "image/png": "[encoded data removed]",
      "text/plain": [
       "<Figure size 432x288 with 1 Axes>"
      ]
     },
     "metadata": {
      "needs_background": "light"
     },
     "output_type": "display_data"
    }
   ],
   "source": [
    "#Latitude vs. Wind Speed Plot\n",
    "temp(clean_city_data['Wind Speed (mph)'])"
   ]
  },
  {
   "cell_type": "markdown",
   "metadata": {},
   "source": [
    "The above scatterplot is an analysis of latitude of over 500 randomly selected cities versus the wind speed of each city. After observing this graph, there does not appear to be a relationship between the location of a city and the city's wind speed."
   ]
  },
  {
   "cell_type": "markdown",
   "metadata": {},
   "source": [
    "## Linear Regression"
   ]
  },
  {
   "cell_type": "code",
   "execution_count": 16,
   "metadata": {},
   "outputs": [],
   "source": [
    "#Function to create Linear Regression plots\n",
    "def lin_reg(y, x=clean_city_data['Lat']):\n",
    "    (slope, intercept, rvalue, pvalue, stderr) = linregress(x, y)\n",
    "    regress_values = x * slope + intercept\n",
    "    line_eq = 'y = ' + str(round(slope,2)) + 'x + ' + str(round(intercept,2))\n",
    "    plt.scatter(x,y)\n",
    "    plt.plot(x, regress_values,\"r-\")\n",
    "    plt.annotate(line_eq,params,fontsize=15,color='red')\n",
    "    plt.xlabel(x.name + 'itude')\n",
    "    plt.ylabel(y.name)\n",
    "    plt.title('City ' + x.name + 'itude vs. ' + y.name + ' - (' + clean_city_data['Date'][0] + ')')\n",
    "    print(f'The correlation coefficient, r, is: {rvalue}') #Printing the r value\n",
    "    print(f'And r-squared is: {rvalue**2}')\n"
   ]
  },
  {
   "cell_type": "code",
   "execution_count": 17,
   "metadata": {},
   "outputs": [],
   "source": [
    "#Create Northern and Southern Hemisphere DataFrames\n",
    "north_df = clean_city_data.loc[clean_city_data['Lat']>=0, :]\n",
    "#print(north_df.count()) #Total points in plots below\n",
    "south_df = clean_city_data.loc[clean_city_data['Lat']<0, :]\n",
    "#print(south_df.count()) #Total points in plots below"
   ]
  },
  {
   "cell_type": "markdown",
   "metadata": {},
   "source": [
    "####  Northern Hemisphere - Max Temp vs. Latitude Linear Regression"
   ]
  },
  {
   "cell_type": "code",
   "execution_count": 18,
   "metadata": {},
   "outputs": [
    {
     "name": "stdout",
     "output_type": "stream",
     "text": [
      "The correlation coefficient, r, is: -0.7237695658210146\n",
      "And r-squared is: 0.52384238440874\n"
     ]
    },
    {
     "data": {
      "image/png": "[encoded data removed]",
      "text/plain": [
       "<Figure size 432x288 with 1 Axes>"
      ]
     },
     "metadata": {
      "needs_background": "light"
     },
     "output_type": "display_data"
    }
   ],
   "source": [
    "#Latitude vs. Max Temp Linear Regression - Northern Hemisphere\n",
    "params = (10,40)\n",
    "lin_reg(north_df['Max Temp (F)'], x = north_df['Lat'])\n",
    "plt.savefig('output_data/NorthLatTempLinReg.png')"
   ]
  },
  {
   "cell_type": "markdown",
   "metadata": {},
   "source": [
    "The above linear regression graph is an analysis of latitude of randomly selected cities in the northern hemisphere versus the maximum temperature of each city. Due to the pattern of this graph, and the correlation coefficient, it is evident there is a strong negative correlation between the two variables. It's safe to say the further north of the equator the city is, the colder the maximum temperature is in the northern hemisphere."
   ]
  },
  {
   "cell_type": "markdown",
   "metadata": {},
   "source": [
    "####  Southern Hemisphere - Max Temp vs. Latitude Linear Regression"
   ]
  },
  {
   "cell_type": "code",
   "execution_count": 19,
   "metadata": {},
   "outputs": [
    {
     "name": "stdout",
     "output_type": "stream",
     "text": [
      "The correlation coefficient, r, is: 0.8187156537437517\n",
      "And r-squared is: 0.6702953216850587\n"
     ]
    },
    {
     "data": {
      "image/png": "[encoded data removed]",
      "text/plain": [
       "<Figure size 432x288 with 1 Axes>"
      ]
     },
     "metadata": {
      "needs_background": "light"
     },
     "output_type": "display_data"
    }
   ],
   "source": [
    "#Latitude vs. Max Temp Linear Regression - Southern hemisphere\n",
    "params = (-30,35)\n",
    "lin_reg(south_df['Max Temp (F)'], x = south_df['Lat'])\n",
    "plt.savefig('output_data/SouthLatTempLinReg.png')"
   ]
  },
  {
   "cell_type": "markdown",
   "metadata": {},
   "source": [
    "The above linear regression graph is an analysis of latitude of randomly selected cities in the southern hemisphere versus the maximum temperature of each city. Due to the pattern of this graph, and the correlation coefficient, it is evident there is a strong positive correlation between the two variables. It's safe to say the closer a city is located to the equator, the hotter the maximum temperature is in the southern hemisphere."
   ]
  },
  {
   "cell_type": "markdown",
   "metadata": {},
   "source": [
    "####  Northern Hemisphere - Humidity (%) vs. Latitude Linear Regression"
   ]
  },
  {
   "cell_type": "code",
   "execution_count": 20,
   "metadata": {},
   "outputs": [
    {
     "name": "stdout",
     "output_type": "stream",
     "text": [
      "The correlation coefficient, r, is: -0.07207092886112713\n",
      "And r-squared is: 0.005194218786905648\n"
     ]
    },
    {
     "data": {
      "image/png": "[encoded data removed]",
      "text/plain": [
       "<Figure size 432x288 with 1 Axes>"
      ]
     },
     "metadata": {
      "needs_background": "light"
     },
     "output_type": "display_data"
    }
   ],
   "source": [
    "#Latitude vs. Humidity Linear Regression - Northern Hemisphere\n",
    "params = (45,30)\n",
    "lin_reg(north_df['Humidity (%)'], x = north_df['Lat'])\n",
    "plt.savefig('output_data/NorthLatHumLinReg.png')"
   ]
  },
  {
   "cell_type": "markdown",
   "metadata": {},
   "source": [
    "The above linear regression graph is an analysis of the latitude of randomly selected cities in the northern hemisphere versus the humidity of each city. Due to the pattern of this graph, and the correlation coefficient, it is evident there's no correlation between the two variables. It's safe to say the latitude of a city does not necessarily correlate to the city's humidity in the northern hemisphere. "
   ]
  },
  {
   "cell_type": "markdown",
   "metadata": {},
   "source": [
    "####  Southern Hemisphere - Humidity (%) vs. Latitude Linear Regression"
   ]
  },
  {
   "cell_type": "code",
   "execution_count": 21,
   "metadata": {},
   "outputs": [
    {
     "name": "stdout",
     "output_type": "stream",
     "text": [
      "The correlation coefficient, r, is: 0.014985419655432246\n",
      "And r-squared is: 0.0002245628022494151\n"
     ]
    },
    {
     "data": {
      "image/png": "[encoded data removed]",
      "text/plain": [
       "<Figure size 432x288 with 1 Axes>"
      ]
     },
     "metadata": {
      "needs_background": "light"
     },
     "output_type": "display_data"
    }
   ],
   "source": [
    "#Latitude vs. Humidity Linear Regression - Southern Hemisphere\n",
    "params = (-30,40)\n",
    "lin_reg(south_df['Humidity (%)'], x = south_df['Lat'])\n",
    "plt.savefig('output_data/SouthLatHumLinReg.png')"
   ]
  },
  {
   "cell_type": "markdown",
   "metadata": {},
   "source": [
    "The above linear regression graph is an analysis of the latitude of randomly selected cities in the southern hemisphere versus the humidity of each city. Due to the pattern of this graph, and the correlation coefficient, it is evident there's no correlation between the two variables. It's safe to say the latitude of a city does not necessarily correlate to the city's humidity in the southern hemisphere. (Similar as the previous northern hemisphere graph of latitude versus maximum temperature)."
   ]
  },
  {
   "cell_type": "markdown",
   "metadata": {},
   "source": [
    "####  Northern Hemisphere - Cloudiness (%) vs. Latitude Linear Regression"
   ]
  },
  {
   "cell_type": "code",
   "execution_count": 22,
   "metadata": {},
   "outputs": [
    {
     "name": "stdout",
     "output_type": "stream",
     "text": [
      "The correlation coefficient, r, is: 0.11158558794282795\n",
      "And r-squared is: 0.01245134343654659\n"
     ]
    },
    {
     "data": {
      "image/png": "[encoded data removed]",
      "text/plain": [
       "<Figure size 432x288 with 1 Axes>"
      ]
     },
     "metadata": {
      "needs_background": "light"
     },
     "output_type": "display_data"
    }
   ],
   "source": [
    "#Latitude vs Cloudiness Linear Regression - Northern Hemisphere\n",
    "params = (45,30)\n",
    "lin_reg(north_df['Cloudiness (%)'], x = north_df['Lat'])\n",
    "plt.savefig('output_data/NorthLatCloudLinReg.png')"
   ]
  },
  {
   "cell_type": "markdown",
   "metadata": {},
   "source": [
    "The above linear regression graph is an analysis of the latitude of randomly selected cities in the northern hemisphere versus the cloudiness of each city. Due to the pattern of this graph, and the correlation coefficient, it is evident there's no correlation between the two variables. It's safe to say the latitude of a city does not necessarily correlate to the city's cloudiness in the northern hemisphere."
   ]
  },
  {
   "cell_type": "markdown",
   "metadata": {},
   "source": [
    "####  Southern Hemisphere - Cloudiness (%) vs. Latitude Linear Regression"
   ]
  },
  {
   "cell_type": "code",
   "execution_count": 23,
   "metadata": {},
   "outputs": [
    {
     "name": "stdout",
     "output_type": "stream",
     "text": [
      "The correlation coefficient, r, is: 0.12332306217152265\n",
      "And r-squared is: 0.015208577663361242\n"
     ]
    },
    {
     "data": {
      "image/png": "[encoded data removed]",
      "text/plain": [
       "<Figure size 432x288 with 1 Axes>"
      ]
     },
     "metadata": {
      "needs_background": "light"
     },
     "output_type": "display_data"
    }
   ],
   "source": [
    "#Latitude vs Cloudiness Linear Regression - Southern Hemisphere\n",
    "params = (-30,20)\n",
    "lin_reg(south_df['Cloudiness (%)'], x = south_df['Lat'])\n",
    "plt.savefig('output_data/SouthLatCloudLinReg.png')"
   ]
  },
  {
   "cell_type": "markdown",
   "metadata": {},
   "source": [
    "The above linear regression graph is an analysis of the latitude of randomly selected cities in the southern hemisphere versus the cloudiness of each city. Due to the pattern of this graph, and the correlation coefficient, it is evident there's no correlation between the two variables. It's safe to say the latitude of a city does not necessarily correlate to the city's cloudiness in the southern hemisphere. (Similar to the previous northern hemisphere graph of latitude versus cloudiness)."
   ]
  },
  {
   "cell_type": "markdown",
   "metadata": {},
   "source": [
    "####  Northern Hemisphere - Wind Speed (mph) vs. Latitude Linear Regression"
   ]
  },
  {
   "cell_type": "code",
   "execution_count": 24,
   "metadata": {},
   "outputs": [
    {
     "name": "stdout",
     "output_type": "stream",
     "text": [
      "The correlation coefficient, r, is: 0.03867489828437298\n",
      "And r-squared is: 0.0014957477573065963\n"
     ]
    },
    {
     "data": {
      "image/png": "[encoded data removed]",
      "text/plain": [
       "<Figure size 432x288 with 1 Axes>"
      ]
     },
     "metadata": {
      "needs_background": "light"
     },
     "output_type": "display_data"
    }
   ],
   "source": [
    "#Latitude vs Wind Speed Linear Regression - Northern Hemisphere\n",
    "params = (5,14)\n",
    "lin_reg(north_df['Wind Speed (mph)'], x = north_df['Lat'])\n",
    "plt.savefig('output_data/NorthLatWindLinReg.png')"
   ]
  },
  {
   "cell_type": "markdown",
   "metadata": {},
   "source": [
    "The above linear regression graph is an analysis of the latitude of randomly selected cities in the northern hemisphere versus the wind speed of each city. Due to the pattern of this graph, and the correlation coefficient, it is evident there's no correlation between the two variables. It's safe to say the latitude of a city does not necessarily correlate to the city's wind speed in the northern hemisphere."
   ]
  },
  {
   "cell_type": "markdown",
   "metadata": {},
   "source": [
    "####  Southern Hemisphere - Wind Speed (mph) vs. Latitude Linear Regression"
   ]
  },
  {
   "cell_type": "code",
   "execution_count": 25,
   "metadata": {},
   "outputs": [
    {
     "name": "stdout",
     "output_type": "stream",
     "text": [
      "The correlation coefficient, r, is: 0.018046869506652706\n",
      "And r-squared is: 0.0003256894989901513\n"
     ]
    },
    {
     "data": {
      "image/png": "[encoded data removed]",
      "text/plain": [
       "<Figure size 432x288 with 1 Axes>"
      ]
     },
     "metadata": {
      "needs_background": "light"
     },
     "output_type": "display_data"
    }
   ],
   "source": [
    "#Latitude vs Wind Speed Linear Regression - Southern Hemisphere\n",
    "params = (-55,17)\n",
    "lin_reg(south_df['Wind Speed (mph)'], x = south_df['Lat'])\n",
    "plt.savefig('output_data/SouthLatWindLinReg.png')"
   ]
  },
  {
   "cell_type": "markdown",
   "metadata": {},
   "source": [
    "The above linear regression graph is an analysis of the latitude of randomly selected cities in the southern hemisphere versus the wind speed of each city. Due to the pattern of this graph, and the correlation coefficient, it is evident there's no correlation between the two variables. It's safe to say the latitude of a city does not necessarily correlate to the city's wind speed in the southern hemisphere. (Similar to the previous northern hemisphere graph of latitude versus wind speed)."
   ]
  }
 ],
 "metadata": {
  "anaconda-cloud": {},
  "kernel_info": {
   "name": "python3"
  },
  "kernelspec": {
   "display_name": "Python [conda env:PythonData] *",
   "language": "python",
   "name": "conda-env-PythonData-py"
  },
  "language_info": {
   "codemirror_mode": {
    "name": "ipython",
    "version": 3
   },
   "file_extension": ".py",
   "mimetype": "text/x-python",
   "name": "python",
   "nbconvert_exporter": "python",
   "pygments_lexer": "ipython3",
   "version": "3.6.10"
  },
  "latex_envs": {
   "LaTeX_envs_menu_present": true,
   "autoclose": false,
   "autocomplete": true,
   "bibliofile": "biblio.bib",
   "cite_by": "apalike",
   "current_citInitial": 1,
   "eqLabelWithNumbers": true,
   "eqNumInitial": 1,
   "hotkeys": {
    "equation": "Ctrl-E",
    "itemize": "Ctrl-I"
   },
   "labels_anchors": false,
   "latex_user_defs": false,
   "report_style_numbering": false,
   "user_envs_cfg": false
  },
  "nteract": {
   "version": "0.12.3"
  }
 },
 "nbformat": 4,
 "nbformat_minor": 2
}
